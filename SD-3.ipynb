{
 "cells": [
  {
   "cell_type": "markdown",
   "metadata": {},
   "source": [
    "# DAY - 1"
   ]
  },
  {
   "cell_type": "code",
   "execution_count": null,
   "metadata": {},
   "outputs": [],
   "source": [
    "def happy(num):\n",
    "    rem=0\n",
    "    sum=0\n",
    "    while(num<0):\n",
    "        rem=num%10\n",
    "        sum=sum+rem*rem\n",
    "        num=num//10\n",
    "    return sum\n",
    "num=97\n",
    "result=num\n",
    "while(result!=1 and result!=4):\n",
    "    result = happy(result)\n",
    "if result==1:\n",
    "    print(\"happy number\")\n",
    "else:\n",
    "    print(\"not happy\")"
   ]
  },
  {
   "cell_type": "code",
   "execution_count": 66,
   "metadata": {},
   "outputs": [
    {
     "name": "stdout",
     "output_type": "stream",
     "text": [
      "1a\n",
      "27\n"
     ]
    }
   ],
   "source": [
    "# A=10, B=11, ...., G=16\n",
    "num=str(input())\n",
    "print(int(num,17))"
   ]
  },
  {
   "cell_type": "code",
   "execution_count": 68,
   "metadata": {},
   "outputs": [
    {
     "name": "stdout",
     "output_type": "stream",
     "text": [
      "284GF\n",
      "207789\n"
     ]
    }
   ],
   "source": [
    "# A=10, B=11, ...., G=16\n",
    "num=str(input())\n",
    "print(int(num,17))"
   ]
  },
  {
   "cell_type": "code",
   "execution_count": 71,
   "metadata": {},
   "outputs": [
    {
     "name": "stdout",
     "output_type": "stream",
     "text": [
      "234I\n",
      "14895\n"
     ]
    }
   ],
   "source": [
    "# A=10, B=11, ...., G=16, H=17, I=18\n",
    "num=str(input())\n",
    "print(int(num,19))"
   ]
  },
  {
   "cell_type": "code",
   "execution_count": 73,
   "metadata": {},
   "outputs": [
    {
     "name": "stdout",
     "output_type": "stream",
     "text": [
      "13\n",
      "not harsh\n"
     ]
    }
   ],
   "source": [
    "num=int(input())\n",
    "n=num\n",
    "sum=0\n",
    "while(n>0):\n",
    "    r=n%10\n",
    "    sum=sum+r\n",
    "    n=n//10\n",
    "if num//sum==num/sum:\n",
    "    print(\"harsh\")\n",
    "else:\n",
    "    print(\"not harsh\")"
   ]
  },
  {
   "cell_type": "code",
   "execution_count": 74,
   "metadata": {},
   "outputs": [
    {
     "name": "stdout",
     "output_type": "stream",
     "text": [
      "98\n",
      "36.66666666666667\n"
     ]
    }
   ],
   "source": [
    "# Convert Fahrenheit to Celsius\n",
    "fa=float(input())\n",
    "ce=(5/9)*(fa-32)\n",
    "print(ce)"
   ]
  },
  {
   "cell_type": "code",
   "execution_count": 83,
   "metadata": {},
   "outputs": [
    {
     "name": "stdout",
     "output_type": "stream",
     "text": [
      "is\n",
      "1\n"
     ]
    }
   ],
   "source": [
    "str1=\"hi it is there is\"\n",
    "str2=input()\n",
    "count=0\n",
    "\n",
    "if str2 in str1:\n",
    "    count=count+1\n",
    "print(count)"
   ]
  },
  {
   "cell_type": "code",
   "execution_count": 84,
   "metadata": {},
   "outputs": [
    {
     "name": "stdout",
     "output_type": "stream",
     "text": [
      "MISSISSIPPI\n"
     ]
    }
   ],
   "source": [
    "a=\"mississippi\"\n",
    "print(a.upper())"
   ]
  },
  {
   "cell_type": "code",
   "execution_count": 85,
   "metadata": {},
   "outputs": [
    {
     "data": {
      "text/plain": [
       "'j'"
      ]
     },
     "execution_count": 85,
     "metadata": {},
     "output_type": "execute_result"
    }
   ],
   "source": [
    "abc=\"poojitha\"\n",
    "abc[3]"
   ]
  },
  {
   "cell_type": "code",
   "execution_count": 86,
   "metadata": {},
   "outputs": [
    {
     "name": "stdout",
     "output_type": "stream",
     "text": [
      "10\n",
      "5\n",
      "3\n",
      "the candies 3\n",
      "total 7\n"
     ]
    }
   ],
   "source": [
    "n=int(input())\n",
    "k=int(input())\n",
    "i=int(input())\n",
    "if i in range(1,k+1):\n",
    "    print(\"the candies\",i)\n",
    "    n=n-i\n",
    "    print(\"total\",n)\n",
    "    if(i==k):\n",
    "        n=n+i\n",
    "        print(\"after refilling\")\n",
    "        print(n)\n",
    "else:\n",
    "    print(\"invalid\")\n",
    "    print(\"total\",k)"
   ]
  },
  {
   "cell_type": "code",
   "execution_count": 98,
   "metadata": {},
   "outputs": [
    {
     "ename": "KeyboardInterrupt",
     "evalue": "Interrupted by user",
     "output_type": "error",
     "traceback": [
      "\u001b[1;31m---------------------------------------------------------------------------\u001b[0m",
      "\u001b[1;31mKeyboardInterrupt\u001b[0m                         Traceback (most recent call last)",
      "\u001b[1;32m<ipython-input-98-516d169d50d8>\u001b[0m in \u001b[0;36m<module>\u001b[1;34m\u001b[0m\n\u001b[1;32m----> 1\u001b[1;33m \u001b[0mn\u001b[0m\u001b[1;33m=\u001b[0m\u001b[0minput\u001b[0m\u001b[1;33m(\u001b[0m\u001b[1;33m)\u001b[0m\u001b[1;33m\u001b[0m\u001b[1;33m\u001b[0m\u001b[0m\n\u001b[0m\u001b[0;32m      2\u001b[0m \u001b[0mstr1\u001b[0m\u001b[1;33m=\u001b[0m\u001b[0mstr\u001b[0m\u001b[1;33m(\u001b[0m\u001b[0minput\u001b[0m\u001b[1;33m(\u001b[0m\u001b[1;33m)\u001b[0m\u001b[1;33m)\u001b[0m\u001b[1;33m\u001b[0m\u001b[1;33m\u001b[0m\u001b[0m\n\u001b[0;32m      3\u001b[0m \u001b[0mflag\u001b[0m\u001b[1;33m=\u001b[0m\u001b[1;36m0\u001b[0m\u001b[1;33m\u001b[0m\u001b[1;33m\u001b[0m\u001b[0m\n\u001b[0;32m      4\u001b[0m \u001b[0marr\u001b[0m\u001b[1;33m=\u001b[0m\u001b[0mlist\u001b[0m\u001b[1;33m(\u001b[0m\u001b[0mstr\u001b[0m\u001b[1;33m)\u001b[0m\u001b[1;33m\u001b[0m\u001b[1;33m\u001b[0m\u001b[0m\n\u001b[0;32m      5\u001b[0m \u001b[1;32mfor\u001b[0m \u001b[0mi\u001b[0m \u001b[1;32min\u001b[0m  \u001b[0mrange\u001b[0m \u001b[1;33m(\u001b[0m\u001b[1;36m1\u001b[0m\u001b[1;33m,\u001b[0m\u001b[0mn\u001b[0m\u001b[1;33m+\u001b[0m\u001b[1;36m1\u001b[0m\u001b[1;33m)\u001b[0m\u001b[1;33m:\u001b[0m\u001b[1;33m\u001b[0m\u001b[1;33m\u001b[0m\u001b[0m\n",
      "\u001b[1;32m~\\anaconda3\\lib\\site-packages\\ipykernel\\kernelbase.py\u001b[0m in \u001b[0;36mraw_input\u001b[1;34m(self, prompt)\u001b[0m\n\u001b[0;32m    858\u001b[0m                 \u001b[1;34m\"raw_input was called, but this frontend does not support input requests.\"\u001b[0m\u001b[1;33m\u001b[0m\u001b[1;33m\u001b[0m\u001b[0m\n\u001b[0;32m    859\u001b[0m             )\n\u001b[1;32m--> 860\u001b[1;33m         return self._input_request(str(prompt),\n\u001b[0m\u001b[0;32m    861\u001b[0m             \u001b[0mself\u001b[0m\u001b[1;33m.\u001b[0m\u001b[0m_parent_ident\u001b[0m\u001b[1;33m,\u001b[0m\u001b[1;33m\u001b[0m\u001b[1;33m\u001b[0m\u001b[0m\n\u001b[0;32m    862\u001b[0m             \u001b[0mself\u001b[0m\u001b[1;33m.\u001b[0m\u001b[0m_parent_header\u001b[0m\u001b[1;33m,\u001b[0m\u001b[1;33m\u001b[0m\u001b[1;33m\u001b[0m\u001b[0m\n",
      "\u001b[1;32m~\\anaconda3\\lib\\site-packages\\ipykernel\\kernelbase.py\u001b[0m in \u001b[0;36m_input_request\u001b[1;34m(self, prompt, ident, parent, password)\u001b[0m\n\u001b[0;32m    902\u001b[0m             \u001b[1;32mexcept\u001b[0m \u001b[0mKeyboardInterrupt\u001b[0m\u001b[1;33m:\u001b[0m\u001b[1;33m\u001b[0m\u001b[1;33m\u001b[0m\u001b[0m\n\u001b[0;32m    903\u001b[0m                 \u001b[1;31m# re-raise KeyboardInterrupt, to truncate traceback\u001b[0m\u001b[1;33m\u001b[0m\u001b[1;33m\u001b[0m\u001b[1;33m\u001b[0m\u001b[0m\n\u001b[1;32m--> 904\u001b[1;33m                 \u001b[1;32mraise\u001b[0m \u001b[0mKeyboardInterrupt\u001b[0m\u001b[1;33m(\u001b[0m\u001b[1;34m\"Interrupted by user\"\u001b[0m\u001b[1;33m)\u001b[0m \u001b[1;32mfrom\u001b[0m \u001b[1;32mNone\u001b[0m\u001b[1;33m\u001b[0m\u001b[1;33m\u001b[0m\u001b[0m\n\u001b[0m\u001b[0;32m    905\u001b[0m             \u001b[1;32mexcept\u001b[0m \u001b[0mException\u001b[0m \u001b[1;32mas\u001b[0m \u001b[0me\u001b[0m\u001b[1;33m:\u001b[0m\u001b[1;33m\u001b[0m\u001b[1;33m\u001b[0m\u001b[0m\n\u001b[0;32m    906\u001b[0m                 \u001b[0mself\u001b[0m\u001b[1;33m.\u001b[0m\u001b[0mlog\u001b[0m\u001b[1;33m.\u001b[0m\u001b[0mwarning\u001b[0m\u001b[1;33m(\u001b[0m\u001b[1;34m\"Invalid Message:\"\u001b[0m\u001b[1;33m,\u001b[0m \u001b[0mexc_info\u001b[0m\u001b[1;33m=\u001b[0m\u001b[1;32mTrue\u001b[0m\u001b[1;33m)\u001b[0m\u001b[1;33m\u001b[0m\u001b[1;33m\u001b[0m\u001b[0m\n",
      "\u001b[1;31mKeyboardInterrupt\u001b[0m: Interrupted by user"
     ]
    }
   ],
   "source": [
    "n=input()\n",
    "str1=str(input())\n",
    "flag=0\n",
    "arr=list(str)\n",
    "for i in  range (1,n+1):\n",
    "    if arr[i]==1:\n",
    "        flag=flag+1\n",
    "        count=1\n",
    "    elif (arr[i]=='0' and flag==1):\n",
    "        count=0\n",
    "        flag=0\n",
    "    if(flag>max):\n",
    "        max=flag\n",
    "print(max)"
   ]
  },
  {
   "cell_type": "markdown",
   "metadata": {},
   "source": [
    "# DAY - 2"
   ]
  },
  {
   "cell_type": "code",
   "execution_count": 1,
   "metadata": {},
   "outputs": [
    {
     "name": "stdout",
     "output_type": "stream",
     "text": [
      "0\n",
      "1\n",
      "2\n",
      "3\n",
      "4\n",
      "5\n",
      "6\n",
      "7\n",
      "8\n",
      "9\n",
      "10\n"
     ]
    }
   ],
   "source": [
    "# Looping statements\n",
    "i=0\n",
    "while(i<=10):\n",
    "    print(i)\n",
    "    i+=1"
   ]
  },
  {
   "cell_type": "code",
   "execution_count": 2,
   "metadata": {},
   "outputs": [
    {
     "name": "stdout",
     "output_type": "stream",
     "text": [
      "0 1 2 3 4 5 6 7 8 9 10 "
     ]
    }
   ],
   "source": [
    "# Looping statements\n",
    "i=0\n",
    "while(i<=10):\n",
    "    print(i,end=\" \")\n",
    "    i+=1"
   ]
  },
  {
   "cell_type": "code",
   "execution_count": 3,
   "metadata": {},
   "outputs": [
    {
     "name": "stdout",
     "output_type": "stream",
     "text": [
      "0\t1\t2\t3\t4\t5\t6\t7\t8\t9\t10\t"
     ]
    }
   ],
   "source": [
    "# Looping statements\n",
    "i=0\n",
    "while(i<=10):\n",
    "    print(i,end=\"\\t\")\n",
    "    i+=1"
   ]
  },
  {
   "cell_type": "code",
   "execution_count": 4,
   "metadata": {},
   "outputs": [
    {
     "name": "stdout",
     "output_type": "stream",
     "text": [
      "3\n",
      "9\n",
      "Sum =  42\n"
     ]
    }
   ],
   "source": [
    "# Looping statements\n",
    "# Program to find the sum of the elements in a range\n",
    "m = int(input())\n",
    "n = int(input())\n",
    "sum = 0\n",
    "while(m<=n):\n",
    "    sum = sum + m\n",
    "    m = m+1\n",
    "print(\"Sum = \",sum)"
   ]
  },
  {
   "cell_type": "code",
   "execution_count": 5,
   "metadata": {},
   "outputs": [
    {
     "name": "stdout",
     "output_type": "stream",
     "text": [
      "Enter a 3 digit number : 123\n",
      "The Sum of the digits :  6\n"
     ]
    }
   ],
   "source": [
    "# Looping statements\n",
    "# Program to find the sum of digits in a number\n",
    "# 123 ----> 1+2+3 = 6\n",
    "num = int(input(\"Enter a 3 digit number : \"))\n",
    "sum = 0\n",
    "while(num!=0):\n",
    "    temp = num%10\n",
    "    sum = sum + temp\n",
    "    num = num // 10\n",
    "print(\"The Sum of the digits : \",sum)"
   ]
  },
  {
   "cell_type": "code",
   "execution_count": 6,
   "metadata": {},
   "outputs": [
    {
     "name": "stdout",
     "output_type": "stream",
     "text": [
      "Enter the number : 13\n",
      "Sum =  4\n",
      "13 is not a Harsh Number\n"
     ]
    }
   ],
   "source": [
    "# Looping statements\n",
    "# Program to check nivens/Harshed number or not\n",
    "num = int(input(\"Enter the number : \"))\n",
    "sum = 0\n",
    "rem = 0\n",
    "temp = num\n",
    "while (temp>0):\n",
    "    rem = temp%10\n",
    "    sum = sum + rem\n",
    "    temp = temp // 10\n",
    "print(\"Sum = \", sum)\n",
    "if num % sum == 0:\n",
    "    print(num,\"is a Harsh/Niven Number\")\n",
    "else:\n",
    "    print(num,\"is not a Harsh Number\")"
   ]
  },
  {
   "cell_type": "code",
   "execution_count": 7,
   "metadata": {},
   "outputs": [
    {
     "name": "stdout",
     "output_type": "stream",
     "text": [
      "Enter the number : 123\n",
      "3 2 1 "
     ]
    }
   ],
   "source": [
    "# Looping statements\n",
    "# Program to print Reverse number\n",
    "num=int(input(\"Enter the number : \"))\n",
    "m=num\n",
    "while (num>0):\n",
    "    r=num%10\n",
    "    print(r,end=\" \")\n",
    "    num=num//10"
   ]
  },
  {
   "cell_type": "code",
   "execution_count": 8,
   "metadata": {},
   "outputs": [
    {
     "name": "stdout",
     "output_type": "stream",
     "text": [
      "Reversed number is : 4321\n"
     ]
    }
   ],
   "source": [
    "# Looping statements\n",
    "# Program to print Reverse number using Pre-defined function ---> reversed and join\n",
    "num = 1234\n",
    "n_string = str(num)\n",
    "r_num = \"\".join(reversed(n_string))\n",
    "print(\"Reversed number is : \"+ r_num)"
   ]
  },
  {
   "cell_type": "code",
   "execution_count": 9,
   "metadata": {},
   "outputs": [
    {
     "name": "stdout",
     "output_type": "stream",
     "text": [
      "Reversed number is : 4321\n"
     ]
    }
   ],
   "source": [
    "# Looping statements\n",
    "# Program to check Reverse number using Recursion function\n",
    "def reverse(n):\n",
    "    if len(n)==0:\n",
    "        return n\n",
    "    return reverse(n[1:]) + n[0]\n",
    "num = 1234\n",
    "n_string = str(num)\n",
    "r_num = reverse(n_string)\n",
    "print(\"Reversed number is : \"+ r_num)"
   ]
  },
  {
   "cell_type": "code",
   "execution_count": 10,
   "metadata": {},
   "outputs": [
    {
     "name": "stdout",
     "output_type": "stream",
     "text": [
      "Enter value of n : 10\n",
      "The first 10 numbers are : \n",
      "1 2 3 4 5 6 7 8 9 10 \n",
      "Sum =  55\n",
      "Average =  5.5\n"
     ]
    }
   ],
   "source": [
    "# Program to calculate the sum of first n numbers\n",
    "# Average\n",
    "n = int(input(\"Enter value of n : \"))\n",
    "avg = 0.0\n",
    "s = 0\n",
    "print(\"The first\",n ,\"numbers are : \")\n",
    "for i in range(1, n+1):\n",
    "    print(i,end=\" \")\n",
    "print(end=\"\\n\")\n",
    "for i in range(1, n+1):\n",
    "    s=s+i\n",
    "avg = s/i\n",
    "print(\"Sum = \", s)\n",
    "print(\"Average = \", avg)\n"
   ]
  },
  {
   "cell_type": "code",
   "execution_count": 11,
   "metadata": {},
   "outputs": [
    {
     "name": "stdout",
     "output_type": "stream",
     "text": [
      "Enter the number : 6\n",
      "6 X 1 = 6\n",
      "6 X 2 = 12\n",
      "6 X 3 = 18\n",
      "6 X 4 = 24\n",
      "6 X 5 = 30\n",
      "6 X 6 = 36\n",
      "6 X 7 = 42\n",
      "6 X 8 = 48\n",
      "6 X 9 = 54\n",
      "6 X 10 = 60\n"
     ]
    }
   ],
   "source": [
    "# Multiplication Table for the given number\n",
    "n = int(input(\"Enter the number : \"))\n",
    "for i in range(1, 11):\n",
    "    print(n, \"X\" , i , \"=\" , n*i)"
   ]
  },
  {
   "cell_type": "code",
   "execution_count": 12,
   "metadata": {},
   "outputs": [
    {
     "name": "stdout",
     "output_type": "stream",
     "text": [
      "Enter the number : 5\n",
      "Enter the number till which you want the table : 8\n",
      "5 * 1 = 5\n",
      "5 * 2 = 10\n",
      "5 * 3 = 15\n",
      "5 * 4 = 20\n",
      "5 * 5 = 25\n",
      "5 * 6 = 30\n",
      "5 * 7 = 35\n",
      "5 * 8 = 40\n"
     ]
    }
   ],
   "source": [
    "# Multiplication Table for the given number\n",
    "n = int(input(\"Enter the number : \"))\n",
    "a = int(input(\"Enter the number till which you want the table : \"))\n",
    "for i in range(1, a+1):\n",
    "    print(n, \"*\" , i , \"=\" , n*i)"
   ]
  },
  {
   "cell_type": "code",
   "execution_count": 13,
   "metadata": {},
   "outputs": [
    {
     "name": "stdout",
     "output_type": "stream",
     "text": [
      "Enter the starting range : 1900\n",
      "Enter the ending range : 2000\n",
      "The Leap Years in the given range are = \n",
      "1900\n",
      "1904\n",
      "1908\n",
      "1912\n",
      "1916\n",
      "1920\n",
      "1924\n",
      "1928\n",
      "1932\n",
      "1936\n",
      "1940\n",
      "1944\n",
      "1948\n",
      "1952\n",
      "1956\n",
      "1960\n",
      "1964\n",
      "1968\n",
      "1972\n",
      "1976\n",
      "1980\n",
      "1984\n",
      "1988\n",
      "1992\n",
      "1996\n",
      "2000\n"
     ]
    }
   ],
   "source": [
    "# Print the Leap Year in the given range\n",
    "start = int(input(\"Enter the starting range : \"))\n",
    "end = int(input(\"Enter the ending range : \"))\n",
    "print(\"The Leap Years in the given range are = \")\n",
    "for i in range(start, end+1):\n",
    "    if (i%400 == 0 or i%4 == 0):\n",
    "        print(i)"
   ]
  },
  {
   "cell_type": "code",
   "execution_count": 14,
   "metadata": {},
   "outputs": [
    {
     "name": "stdout",
     "output_type": "stream",
     "text": [
      "Enter the nth term : 10\n",
      "The Sum of 1, 1/2, 1/3, ...., 1/10 is 2.9289682539682538\n"
     ]
    }
   ],
   "source": [
    "n = int(input(\"Enter the nth term : \"))\n",
    "s = 0.0\n",
    "for i in range(1,n+1):\n",
    "    a=1.0/i\n",
    "    s = s+a\n",
    "print(\"The Sum of 1, 1/2, 1/3, ...., 1/\" + str(n) + \" is \" + str(s))"
   ]
  },
  {
   "cell_type": "code",
   "execution_count": 16,
   "metadata": {},
   "outputs": [
    {
     "name": "stdout",
     "output_type": "stream",
     "text": [
      "Enter the nth term : 10\n",
      "The Sum of 1, 1/2^2, 1/3^2, ...., 1/100 is 1.5497677311665408\n"
     ]
    }
   ],
   "source": [
    "n = int(input(\"Enter the nth term : \"))\n",
    "s = 0.0\n",
    "for i in range(1,n+1):\n",
    "    a=1.0/(i**2) # Here ** means power of\n",
    "    s = s+a\n",
    "print(\"The Sum of 1, 1/2^2, 1/3^2, ...., 1/\" + str(n**2) + \" is \" + str(s))"
   ]
  },
  {
   "cell_type": "code",
   "execution_count": 17,
   "metadata": {},
   "outputs": [
    {
     "name": "stdout",
     "output_type": "stream",
     "text": [
      "$$hello$$$\n"
     ]
    }
   ],
   "source": [
    "str1 = \"hello\"\n",
    "print(str1.center(10, \"$\"))"
   ]
  },
  {
   "cell_type": "code",
   "execution_count": 18,
   "metadata": {},
   "outputs": [
    {
     "name": "stdout",
     "output_type": "stream",
     "text": [
      "2\n"
     ]
    }
   ],
   "source": [
    "str2 = \"ll\"\n",
    "substr = \"hehellhehell\"\n",
    "print(substr.count(str2, 0, len(substr)))"
   ]
  },
  {
   "cell_type": "code",
   "execution_count": 20,
   "metadata": {},
   "outputs": [
    {
     "name": "stdout",
     "output_type": "stream",
     "text": [
      "6\n"
     ]
    }
   ],
   "source": [
    "str3 = \"he is my cousin\"\n",
    "print(str3.find(\"my\", 0, len(str3)))"
   ]
  },
  {
   "cell_type": "code",
   "execution_count": 21,
   "metadata": {},
   "outputs": [
    {
     "name": "stdout",
     "output_type": "stream",
     "text": [
      "^^^^^^^^^^^^^^^^^^hi\n"
     ]
    }
   ],
   "source": [
    "# Syntax for left justification\n",
    "# ljust(width[,fillchar])\n",
    "str4 = \"hi\"\n",
    "print(str4.rjust(20,'^'))"
   ]
  },
  {
   "cell_type": "code",
   "execution_count": 24,
   "metadata": {},
   "outputs": [
    {
     "name": "stdout",
     "output_type": "stream",
     "text": [
      "0006\n"
     ]
    }
   ],
   "source": [
    "# Syntax for zfill(width)\n",
    "str5 = \"6\"\n",
    "print(str5.zfill(4))"
   ]
  },
  {
   "cell_type": "code",
   "execution_count": 25,
   "metadata": {},
   "outputs": [
    {
     "name": "stdout",
     "output_type": "stream",
     "text": [
      "tHE pORMETHEUS hAS a sHIP\n"
     ]
    }
   ],
   "source": [
    "str6 = \"The Pormetheus Has A Ship\"\n",
    "print(str6.swapcase())"
   ]
  },
  {
   "cell_type": "code",
   "execution_count": 27,
   "metadata": {},
   "outputs": [
    {
     "name": "stdout",
     "output_type": "stream",
     "text": [
      "[(0, 'T'), (1, 'h'), (2, 'e'), (3, ' '), (4, 'P'), (5, 'o'), (6, 'r'), (7, 'm'), (8, 'e'), (9, 't'), (10, 'h'), (11, 'e'), (12, 'u'), (13, 's'), (14, ' '), (15, 'H'), (16, 'a'), (17, 's'), (18, ' '), (19, 'A'), (20, ' '), (21, 'S'), (22, 'h'), (23, 'i'), (24, 'p')]\n"
     ]
    }
   ],
   "source": [
    "str7 = \"The Pormetheus Has A Ship\"\n",
    "print(list(enumerate(str7)))"
   ]
  },
  {
   "cell_type": "code",
   "execution_count": 29,
   "metadata": {},
   "outputs": [
    {
     "name": "stdout",
     "output_type": "stream",
     "text": [
      "i n d i a   h a s   w o n "
     ]
    }
   ],
   "source": [
    "str8 = \"india has won\"\n",
    "for i in str8:\n",
    "    print(i,end=\" \")"
   ]
  },
  {
   "cell_type": "code",
   "execution_count": 32,
   "metadata": {},
   "outputs": [
    {
     "name": "stdout",
     "output_type": "stream",
     "text": [
      "j o e j b "
     ]
    }
   ],
   "source": [
    "# caeser cipher\n",
    "str9 = \"india\"\n",
    "index = 0\n",
    "while index < len(str9):\n",
    "    letter = str9[index]\n",
    "    print(chr(ord(letter) + 1),end=\" \")\n",
    "    index += 1"
   ]
  },
  {
   "cell_type": "code",
   "execution_count": 38,
   "metadata": {},
   "outputs": [
    {
     "name": "stdout",
     "output_type": "stream",
     "text": [
      "Enter the position : 7\n",
      "7 at accordance 35\n"
     ]
    }
   ],
   "source": [
    "val = int(input(\"Enter the position : \"))\n",
    "a=b=0\n",
    "for i in range(1, val+1):\n",
    "    if (i%2!=0):\n",
    "        a=a+7\n",
    "    else:\n",
    "        b=b+6\n",
    "if val%2!=0:\n",
    "    print('{} at accordance {}'.format(val, a+7))\n",
    "else:\n",
    "    print('{} at accordance {}'.format(val, b+6))"
   ]
  },
  {
   "cell_type": "code",
   "execution_count": 54,
   "metadata": {},
   "outputs": [
    {
     "name": "stdout",
     "output_type": "stream",
     "text": [
      "7\n",
      "6\n",
      "[0, 0, 7, 6, 14, 12, 21, 18, 28, 24, 35, 30, 42, 36, 49, 42, 56, 48, 63, 54, 70, 60, 77, 66, 84, 72, 91, 78, 98, 84, 105, 90, 112, 96, 119, 102, 126, 108, 133, 114, 140, 120]\n",
      "Enter the position : 40\n",
      "At 40 th Position 140\n",
      "Enter the position : 41\n",
      "At 41 th Position 120\n"
     ]
    }
   ],
   "source": [
    "n = int(input())  #7\n",
    "m = int(input())  #6\n",
    "list1=[]\n",
    "for i in range(21):\n",
    "    p=i*n\n",
    "    list1.append(p)\n",
    "    q=i*m\n",
    "    list1.append(q)\n",
    "print(list1)\n",
    "r = int(input(\"Enter the position : \"))\n",
    "print(\"At\", r,\"th Position\",list1[r])\n",
    "r1 = int(input(\"Enter the position : \"))\n",
    "print(\"At\", r1,\"th Position\",list1[r1])"
   ]
  },
  {
   "cell_type": "code",
   "execution_count": 60,
   "metadata": {},
   "outputs": [
    {
     "name": "stdout",
     "output_type": "stream",
     "text": [
      "7\n",
      "6\n",
      "[0, 0, 7, 6, 14, 12, 21, 18, 28, 24, 35, 30, 42, 36, 49, 42, 56, 48, 63, 54, 70, 60, 77, 66, 84, 72, 91, 78, 98, 84, 105, 90, 112, 96, 119, 102, 126, 108, 133, 114, 140, 120]\n",
      "Length of the list :  42\n",
      "Enter the position : 56\n",
      "list index out of range\n"
     ]
    }
   ],
   "source": [
    "n = int(input())  #7\n",
    "m = int(input())  #6\n",
    "list1=[]\n",
    "for i in range(21):\n",
    "    p=i*n\n",
    "    list1.append(p)\n",
    "    q=i*m\n",
    "    list1.append(q)\n",
    "print(list1)\n",
    "n = len(list1)\n",
    "print(\"Length of the list : \", len(list1))\n",
    "r = int(input(\"Enter the position : \"))\n",
    "for i in range(n+1):\n",
    "    if (r==i):\n",
    "        print(\"At\", r,\"th Position\",list1[r])\n",
    "    elif(r>i):\n",
    "        print(\"list index out of range\")\n",
    "        break"
   ]
  },
  {
   "cell_type": "code",
   "execution_count": 62,
   "metadata": {},
   "outputs": [
    {
     "name": "stdout",
     "output_type": "stream",
     "text": [
      "2\n",
      "3\n",
      "Enter the range : 10\n",
      "[1, 1, 2, 3, 4, 9, 8, 27, 16, 81, 32, 243, 64, 729, 128, 2187, 256, 6561, 512, 19683, 1024, 59049]\n",
      "Enter the Element to get the index : 64\n",
      "12\n"
     ]
    }
   ],
   "source": [
    "n = int(input())  #2\n",
    "m = int(input())  #3\n",
    "r = int(input(\"Enter the range : \"))\n",
    "list1=[]\n",
    "for i in range(r+1):\n",
    "    p=n**i\n",
    "    list1.append(p)\n",
    "    q=m**i\n",
    "    list1.append(q)\n",
    "print(list1)\n",
    "u = int(input(\"Enter the Element to get the index : \"))\n",
    "print(list1.index(u))\n",
    "#print(list1[13])"
   ]
  },
  {
   "cell_type": "code",
   "execution_count": null,
   "metadata": {},
   "outputs": [],
   "source": []
  },
  {
   "cell_type": "markdown",
   "metadata": {},
   "source": [
    "# DAY - 3"
   ]
  },
  {
   "cell_type": "code",
   "execution_count": 100,
   "metadata": {},
   "outputs": [
    {
     "name": "stdout",
     "output_type": "stream",
     "text": [
      "Aate  Bate  Cate  Date  Eate  Fate  Gate  Hate  "
     ]
    }
   ],
   "source": [
    "# abecedarian series\n",
    "str1 = \"ABCDEFGH\"\n",
    "str2 = \"ate\"\n",
    "for letter in str1:\n",
    "    print(letter + str2, end=\"  \")"
   ]
  },
  {
   "cell_type": "code",
   "execution_count": 35,
   "metadata": {},
   "outputs": [
    {
     "name": "stdout",
     "output_type": "stream",
     "text": [
      "6\n",
      "aate sate date fate gate hate "
     ]
    }
   ],
   "source": [
    "# abecedarian series\n",
    "str10 = \"ate\"\n",
    "list1=[\"a\",\"s\",\"d\",\"f\",\"g\",\"h\"]\n",
    "n=len(list1)\n",
    "print(n)\n",
    "for i in range(n):\n",
    "    s=list1[i]+str10\n",
    "    print(s,end=\" \")"
   ]
  },
  {
   "cell_type": "code",
   "execution_count": 106,
   "metadata": {},
   "outputs": [
    {
     "name": "stdout",
     "output_type": "stream",
     "text": [
      "Enter number of rows : 5\n",
      "*  \n",
      "\n",
      "*  *  \n",
      "\n",
      "*  *  *  \n",
      "\n",
      "*  *  *  *  \n",
      "\n",
      "*  *  *  *  *  \n",
      "\n"
     ]
    }
   ],
   "source": [
    "# Right triangle star pattern series\n",
    "rows = int(input(\"Enter number of rows : \"))\n",
    "for i in range(rows):\n",
    "    for j in range(i+1):\n",
    "        print(\"* \", end=\" \")\n",
    "    print(\"\\n\")"
   ]
  },
  {
   "cell_type": "code",
   "execution_count": 29,
   "metadata": {},
   "outputs": [
    {
     "name": "stdout",
     "output_type": "stream",
     "text": [
      "Enter number of rows : 6\n",
      "\n",
      "* \n",
      "* * \n",
      "* * * \n",
      "* * * * \n",
      "* * * * * \n",
      "* * * * * * \n"
     ]
    }
   ],
   "source": [
    "# Right triangle star pattern series\n",
    "rows = int(input(\"Enter number of rows : \"))\n",
    "for i in range(rows+1):\n",
    "    for j in range(i):\n",
    "        print(\"*\", end=\" \")\n",
    "    print(end=\"\\n\")"
   ]
  },
  {
   "cell_type": "code",
   "execution_count": 226,
   "metadata": {},
   "outputs": [
    {
     "name": "stdout",
     "output_type": "stream",
     "text": [
      "Enter number of rows : 5\n",
      "*         \n",
      "* *       \n",
      "* * *     \n",
      "* * * *   \n",
      "* * * * * \n"
     ]
    }
   ],
   "source": [
    "# Right triangle star pattern series using while loop\n",
    "rows = int(input(\"Enter number of rows : \"))\n",
    "i = 1\n",
    "while (i<=rows):\n",
    "    j=1\n",
    "    while(j<=rows):\n",
    "        if j>i:\n",
    "            print(\" \", end=\" \")\n",
    "        else:\n",
    "            print(\"*\", end=\" \")\n",
    "        j=j+1\n",
    "    i=i+1\n",
    "    print()"
   ]
  },
  {
   "cell_type": "code",
   "execution_count": 117,
   "metadata": {},
   "outputs": [
    {
     "name": "stdout",
     "output_type": "stream",
     "text": [
      "Enter number of rows : 5\n",
      "1  \n",
      "\n",
      "1  2  \n",
      "\n",
      "1  2  3  \n",
      "\n",
      "1  2  3  4  \n",
      "\n",
      "1  2  3  4  5  \n",
      "\n"
     ]
    }
   ],
   "source": [
    "# Right triangle number pattern series\n",
    "rows = int(input(\"Enter number of rows : \"))\n",
    "for i in range(rows):\n",
    "    for j in range(i+1):\n",
    "        print(j+1, end=\"  \")\n",
    "    print(\"\\n\")"
   ]
  },
  {
   "cell_type": "code",
   "execution_count": 224,
   "metadata": {},
   "outputs": [
    {
     "name": "stdout",
     "output_type": "stream",
     "text": [
      "Enter number of rows : 5\n",
      " *   *   *   *   *  \n",
      "\n",
      " *   *   *   *  \n",
      "\n",
      " *   *   *  \n",
      "\n",
      " *   *  \n",
      "\n",
      " *  \n",
      "\n"
     ]
    }
   ],
   "source": [
    "# Inverted Right triangle star pattern series\n",
    "rows = int(input(\"Enter number of rows : \"))\n",
    "for i in range(rows, 0, -1):\n",
    "    for j in range(0, i):\n",
    "        print(\" * \", end=\" \")\n",
    "    print(\"\\n\")"
   ]
  },
  {
   "cell_type": "code",
   "execution_count": 122,
   "metadata": {},
   "outputs": [
    {
     "name": "stdout",
     "output_type": "stream",
     "text": [
      "Enter number of rows : 5\n",
      "1  2  3  4  5  \n",
      "\n",
      "1  2  3  4  \n",
      "\n",
      "1  2  3  \n",
      "\n",
      "1  2  \n",
      "\n",
      "1  \n",
      "\n"
     ]
    }
   ],
   "source": [
    "# Inverted Right triangle number pattern series\n",
    "rows = int(input(\"Enter number of rows : \"))\n",
    "for i in range(rows, 0, -1):\n",
    "    for j in range(0, i):\n",
    "        print(j+1, end=\"  \")\n",
    "    print(\"\\n\")"
   ]
  },
  {
   "cell_type": "code",
   "execution_count": 125,
   "metadata": {},
   "outputs": [
    {
     "name": "stdout",
     "output_type": "stream",
     "text": [
      "Enter number of rows : 5\n",
      "1  \n",
      "\n",
      "2  2  \n",
      "\n",
      "3  3  3  \n",
      "\n",
      "4  4  4  4  \n",
      "\n",
      "5  5  5  5  5  \n",
      "\n"
     ]
    }
   ],
   "source": [
    "# Right triangle number pattern series\n",
    "rows = int(input(\"Enter number of rows : \"))\n",
    "for i in range(rows):\n",
    "    for j in range(i+1):\n",
    "        print(i+1, end=\"  \")\n",
    "    print(\"\\n\")"
   ]
  },
  {
   "cell_type": "code",
   "execution_count": 124,
   "metadata": {},
   "outputs": [
    {
     "name": "stdout",
     "output_type": "stream",
     "text": [
      "Enter number of rows : 5\n",
      "5  5  5  5  5  \n",
      "\n",
      "4  4  4  4  \n",
      "\n",
      "3  3  3  \n",
      "\n",
      "2  2  \n",
      "\n",
      "1  \n",
      "\n"
     ]
    }
   ],
   "source": [
    "# Inverted Right triangle number pattern series\n",
    "rows = int(input(\"Enter number of rows : \"))\n",
    "for i in range(rows, 0, -1):\n",
    "    for j in range(0, i):\n",
    "        print(i, end=\"  \")\n",
    "    print(\"\\n\")"
   ]
  },
  {
   "cell_type": "code",
   "execution_count": 141,
   "metadata": {},
   "outputs": [
    {
     "name": "stdout",
     "output_type": "stream",
     "text": [
      "Enter number of rows : 5\n",
      "* * * * * \n",
      "  * * * * \n",
      "    * * * \n",
      "      * * \n",
      "        * \n"
     ]
    }
   ],
   "source": [
    "# Inverted Mirrored Right Triangle Star Pattern\n",
    "rows = int(input(\"Enter number of rows : \"))\n",
    "i = 1\n",
    "while (i<=rows):\n",
    "    j=1\n",
    "    while(j<=rows):\n",
    "        if j<i:\n",
    "            print(\" \", end=\" \")\n",
    "        else:\n",
    "            print(\"*\", end=\" \")\n",
    "        j=j+1\n",
    "    i=i+1\n",
    "    print()"
   ]
  },
  {
   "cell_type": "code",
   "execution_count": 191,
   "metadata": {},
   "outputs": [
    {
     "name": "stdout",
     "output_type": "stream",
     "text": [
      "Enter number of rows : 5\n",
      "        * \n",
      "      * * \n",
      "    * * * \n",
      "  * * * * \n",
      "* * * * * \n"
     ]
    }
   ],
   "source": [
    "# Mirrored Right Triangle Star Pattern Using While loop \n",
    "rows = int(input(\"Enter number of rows : \"))\n",
    "i = rows\n",
    "while (i>=1):\n",
    "    j=1\n",
    "    while(j<=rows):\n",
    "        if j<i:\n",
    "            print(\" \", end=\" \")\n",
    "        else:\n",
    "            print(\"*\", end=\" \")\n",
    "        j=j+1\n",
    "    i=i-1\n",
    "    print()"
   ]
  },
  {
   "cell_type": "code",
   "execution_count": 21,
   "metadata": {},
   "outputs": [
    {
     "name": "stdout",
     "output_type": "stream",
     "text": [
      "Enter the number of rows5\n",
      "        * \n",
      "      * * \n",
      "    * * * \n",
      "  * * * * \n",
      "* * * * * \n"
     ]
    }
   ],
   "source": [
    "# Mirrored Right Triangle Star Pattern Using for loop \n",
    "rows = int(input(\"Enter the number of rows\"));\n",
    "k = 8 # these are columns\n",
    "for i in range(0, rows): # i, j represents rows and columns respectively\n",
    "    for j in range(0, k):\n",
    "        print(end=\" \")\n",
    "    k = k - 2\n",
    "    for j in range(0, i+1):\n",
    "        print(\"* \", end=\"\")\n",
    "    print()"
   ]
  },
  {
   "cell_type": "code",
   "execution_count": 212,
   "metadata": {},
   "outputs": [
    {
     "name": "stdout",
     "output_type": "stream",
     "text": [
      "Enter the number of rows5\n",
      "         *  \n",
      "       *   *  \n",
      "     *   *   *  \n",
      "   *   *   *   *  \n",
      " *   *   *   *   *  \n"
     ]
    }
   ],
   "source": [
    "# Equilateral triangle pattern\n",
    "# Pyramid Star Pattern using for loop\n",
    "rows = int(input(\"Enter the number of rows\"));\n",
    "for i in range(0, rows):\n",
    "    for j in range(0, rows-i-1):\n",
    "        print(\" \",end=\" \") # print(end=\" \")\n",
    "    for j in  range(0, i+1):\n",
    "        print(\" * \", end=\" \") # print(\"*\", end=\" \")\n",
    "    print(end=\"\\n\")"
   ]
  },
  {
   "cell_type": "code",
   "execution_count": 220,
   "metadata": {},
   "outputs": [
    {
     "name": "stdout",
     "output_type": "stream",
     "text": [
      "Enter number of rows : 5\n",
      "         *  \n",
      "       *   *  \n",
      "     *   *   *  \n",
      "   *   *   *   *  \n",
      " *   *   *   *   *  \n"
     ]
    }
   ],
   "source": [
    "# Pyramid Star Pattern using while loop\n",
    "# This simply as the Mirrored Right Triangle Star Pattern, we just kept space for the * \n",
    "rows = int(input(\"Enter number of rows : \"))\n",
    "i = rows\n",
    "while (i>=1):\n",
    "    j=1\n",
    "    while(j<=rows):\n",
    "        if j<i:\n",
    "            print(\" \", end=\" \")\n",
    "        else:\n",
    "            print(\" * \", end=\" \")\n",
    "        j=j+1\n",
    "    i=i-1\n",
    "    print()"
   ]
  },
  {
   "cell_type": "code",
   "execution_count": 221,
   "metadata": {},
   "outputs": [
    {
     "name": "stdout",
     "output_type": "stream",
     "text": [
      "Enter number of rows : 5\n",
      " *   *   *   *   *  \n",
      "   *   *   *   *  \n",
      "     *   *   *  \n",
      "       *   *  \n",
      "         *  \n"
     ]
    }
   ],
   "source": [
    "# Inverted Pyramid Star Pattern using while loop\n",
    "# This simply as the Inverted Mirrored Right Triangle Star Pattern, we just kept space for the * \n",
    "rows = int(input(\"Enter number of rows : \"))\n",
    "i = 1\n",
    "while (i<=rows):\n",
    "    j=1\n",
    "    while(j<=rows):\n",
    "        if j<i:\n",
    "            print(\" \", end=\" \")\n",
    "        else:\n",
    "            print(\" * \", end=\" \")\n",
    "        j=j+1\n",
    "    i=i+1\n",
    "    print()"
   ]
  },
  {
   "cell_type": "code",
   "execution_count": null,
   "metadata": {},
   "outputs": [],
   "source": [
    "# Diamond or Rhombus Star pattern using while loop\n",
    "rows = int(input(\"Enter the number of rows : \"))\n",
    "i = 1\n",
    "while i<=rows:\n",
    "    j = rows\n",
    "    while \n",
    "    k+=1\n",
    "    if i==1:\n",
    "        print()\n",
    "    else:\n",
    "        print(\"*\")\n",
    "    i+=1\n",
    "i=rows-1\n",
    "while i>=1:\n",
    "    "
   ]
  },
  {
   "cell_type": "code",
   "execution_count": 228,
   "metadata": {},
   "outputs": [
    {
     "name": "stdout",
     "output_type": "stream",
     "text": [
      "Enter the number of rows : 5\n",
      "        * \n",
      "       * * \n",
      "      * * * \n",
      "     * * * * \n",
      "    * * * * * \n",
      "   * * * * * * \n",
      "    * * * * * \n",
      "     * * * * \n",
      "      * * * \n",
      "       * * \n",
      "        * \n"
     ]
    }
   ],
   "source": [
    "# Diamond or Rhombus Star pattern using For loop\n",
    "rows = int(input(\"Enter the number of rows : \"))\n",
    "k = 2 * rows-2\n",
    "for i in range(0, rows):\n",
    "    for j in range(0, k):\n",
    "        print(end=\" \")\n",
    "    k = k-1\n",
    "    for j in range(0, i+1):\n",
    "        print(\"* \", end=\"\")\n",
    "    print(\"\")\n",
    "k = rows-2\n",
    "for i in range(rows, -1, -1):\n",
    "    for j in range(k, 0, -1):\n",
    "        print(end=\" \")\n",
    "    k=k+1\n",
    "    for j in range(0, i+1):\n",
    "        print(\"* \", end=\"\")\n",
    "    print(\"\")"
   ]
  },
  {
   "cell_type": "code",
   "execution_count": 230,
   "metadata": {},
   "outputs": [
    {
     "name": "stdout",
     "output_type": "stream",
     "text": [
      "C\n",
      "Ca\n",
      "Cal\n",
      "Cali\n",
      "Calif\n",
      "Califo\n",
      "Califor\n",
      "Californ\n",
      "Californi\n",
      "California\n"
     ]
    }
   ],
   "source": [
    "word = \"California\"\n",
    "x = \"\"\n",
    "for i in word:\n",
    "    x+=i\n",
    "    print(x)"
   ]
  },
  {
   "cell_type": "code",
   "execution_count": 242,
   "metadata": {},
   "outputs": [
    {
     "name": "stdout",
     "output_type": "stream",
     "text": [
      "A  \n",
      "B C  \n",
      "D E F  \n",
      "G H I J  \n",
      "K L M N O  \n",
      "P Q R S T U  \n",
      "V W X Y Z [ \\  \n"
     ]
    }
   ],
   "source": [
    "a = 65 # ASCII Value of A=65, a=97\n",
    "r = 7\n",
    "for i in range(0, r):\n",
    "    for j in range(0, i+1):\n",
    "        ch = chr(a)\n",
    "        print(ch, end=\" \")\n",
    "        a+=1\n",
    "    print(\" \")"
   ]
  },
  {
   "cell_type": "code",
   "execution_count": 240,
   "metadata": {},
   "outputs": [
    {
     "name": "stdout",
     "output_type": "stream",
     "text": [
      "a  \n",
      "b c  \n",
      "d e f  \n",
      "g h i j  \n",
      "k l m n o  \n",
      "p q r s t u  \n",
      "v w x y z { |  \n"
     ]
    }
   ],
   "source": [
    "a = 97 # ASCII Value of A=65, a=97\n",
    "r = 7\n",
    "for i in range(0, r):\n",
    "    for j in range(0, i+1):\n",
    "        ch = chr(a)\n",
    "        print(ch, end=\" \")\n",
    "        a+=1\n",
    "    print(\" \")"
   ]
  },
  {
   "cell_type": "code",
   "execution_count": 22,
   "metadata": {},
   "outputs": [
    {
     "name": "stdout",
     "output_type": "stream",
     "text": [
      "          A  \n",
      "        B   C  \n",
      "      D   E   F  \n",
      "    G   H   I   J  \n",
      "  K   L   M   N   O  \n"
     ]
    }
   ],
   "source": [
    "a = 65\n",
    "r = 5 # these are rows\n",
    "k = 8 # these are columns\n",
    "for i in range(0, r): # i, j represents rows and columns respectively\n",
    "    for j in range(0, k):\n",
    "        print(end=\" \")\n",
    "    k=k-2\n",
    "    for j in range(0, i+1):\n",
    "        ch = chr(a)\n",
    "        print(\" \", ch, end=\" \")\n",
    "        a+=1\n",
    "    print(\" \")"
   ]
  },
  {
   "cell_type": "code",
   "execution_count": 23,
   "metadata": {},
   "outputs": [
    {
     "name": "stdout",
     "output_type": "stream",
     "text": [
      "1 \n",
      "2 4 \n",
      "3 6 9 \n",
      "4 8 12 16 \n",
      "5 10 15 20 25 \n",
      "6 12 18 24 30 36 \n",
      "7 14 21 28 35 42 49 \n",
      "8 16 24 32 40 48 56 64 \n",
      "9 18 27 36 45 54 63 72 81 \n",
      "10 20 30 40 50 60 70 80 90 100 \n"
     ]
    }
   ],
   "source": [
    "rows = 10\n",
    "for i in range(1, rows+1):\n",
    "    for j in range(1, i+1):\n",
    "        print(i*j, end=\" \")\n",
    "    print()"
   ]
  },
  {
   "cell_type": "code",
   "execution_count": 44,
   "metadata": {},
   "outputs": [
    {
     "name": "stdout",
     "output_type": "stream",
     "text": [
      "Enter the number of rows : 5\n",
      "1 \n",
      "2 3 \n",
      "4 5 6 \n",
      "7 8 9 10 \n",
      "11 12 13 14 15 \n"
     ]
    }
   ],
   "source": [
    "rows = int(input(\"Enter the number of rows : \"))\n",
    "m = 1\n",
    "for i in range(1, rows+1):\n",
    "    for j in range(1, i+1):\n",
    "        print(m, end=\" \")\n",
    "        m = m+1\n",
    "    print()"
   ]
  },
  {
   "cell_type": "code",
   "execution_count": 38,
   "metadata": {},
   "outputs": [
    {
     "name": "stdout",
     "output_type": "stream",
     "text": [
      "Enter the number of rows : 5\n",
      "1 \n",
      "2 6 \n",
      "3 7 10 \n",
      "4 8 11 13 \n",
      "5 9 12 14 15 \n"
     ]
    }
   ],
   "source": [
    "rows = int(input(\"Enter the number of rows : \"))\n",
    "for i in range(1, rows+1):\n",
    "    m=i\n",
    "    for j in range(1, i+1):\n",
    "        print(m, end=\" \")\n",
    "        m = m+rows-j\n",
    "    print()"
   ]
  },
  {
   "cell_type": "code",
   "execution_count": 56,
   "metadata": {},
   "outputs": [
    {
     "name": "stdout",
     "output_type": "stream",
     "text": [
      "Enter a number : 2\n",
      "Enter a number : 15\n",
      "2\n",
      "3\n",
      "5\n",
      "7\n",
      "11\n",
      "13\n"
     ]
    }
   ],
   "source": [
    "# Prime numbers in the given range\n",
    "m = int(input(\"Enter a number : \"))\n",
    "n = int(input(\"Enter a number : \"))\n",
    "for i in range(m, n+1):\n",
    "    if i>1:\n",
    "        for j in range(2,i):\n",
    "            if i%j==0:\n",
    "                break\n",
    "        else:\n",
    "            print(i)"
   ]
  },
  {
   "cell_type": "code",
   "execution_count": 57,
   "metadata": {},
   "outputs": [
    {
     "name": "stdout",
     "output_type": "stream",
     "text": [
      "Enter a number : 2\n",
      "Enter a number : 15\n",
      "2 3 5 7 11 13 "
     ]
    }
   ],
   "source": [
    "# Prime numbers in the given range\n",
    "a = int(input(\"Enter a number : \"))\n",
    "b = int(input(\"Enter a number : \"))\n",
    "if (a<=0 or b<=0 or a>b):\n",
    "    print(\"Provide valid input\")\n",
    "else:\n",
    "    while(a<=b):\n",
    "        if a==2:\n",
    "            print(a, end=\" \")\n",
    "        elif(a==1):\n",
    "            a+=1\n",
    "            continue\n",
    "        else:\n",
    "            flag=0\n",
    "            for i in range(2,a//2+1):\n",
    "                if a%i==0:\n",
    "                    flag=1\n",
    "                    break\n",
    "            if flag==0:\n",
    "                print(a,end=\" \")\n",
    "        a+=1"
   ]
  },
  {
   "cell_type": "code",
   "execution_count": 60,
   "metadata": {},
   "outputs": [
    {
     "name": "stdout",
     "output_type": "stream",
     "text": [
      "enter the size5\n",
      "*               * \n",
      "  *           *   \n",
      "    *       *     \n",
      "      *   *       \n",
      "        *         \n",
      "      *   *       \n",
      "    *       *     \n",
      "  *           *   \n",
      "*               * \n"
     ]
    }
   ],
   "source": [
    "# x-pattern\n",
    "n=int(input(\"enter the size\"))\n",
    "val= n * 2 -1\n",
    "for i in range(1, val+1):\n",
    "    for j in range(1, val+1):\n",
    "        if i==j or j==val-i+1:\n",
    "            print('*',end=' ')\n",
    "        else:\n",
    "            print(' ',end=' ')\n",
    "    print()"
   ]
  },
  {
   "cell_type": "code",
   "execution_count": 59,
   "metadata": {},
   "outputs": [
    {
     "name": "stdout",
     "output_type": "stream",
     "text": [
      "enter rows5\n",
      "        *         \n",
      "        *         \n",
      "        *         \n",
      "        *         \n",
      "* * * * * * * * * \n",
      "        *         \n",
      "        *         \n",
      "        *         \n",
      "        *         \n"
     ]
    }
   ],
   "source": [
    "#plus pattern\n",
    "n=int(input(\"enter rows\"))\n",
    "for i in range(1,2*n):\n",
    "    for j in range(1,2*n):\n",
    "        if(i==n or j==n):\n",
    "            print(\"*\",end=\" \") \n",
    "        else:\n",
    "            print(\" \",end=\" \")\n",
    "    print()"
   ]
  },
  {
   "cell_type": "code",
   "execution_count": null,
   "metadata": {},
   "outputs": [],
   "source": [
    "# Sand glass \n"
   ]
  },
  {
   "cell_type": "markdown",
   "metadata": {},
   "source": [
    "# DAY - 4"
   ]
  },
  {
   "cell_type": "code",
   "execution_count": 14,
   "metadata": {},
   "outputs": [
    {
     "name": "stdout",
     "output_type": "stream",
     "text": [
      "inside the function var1 is -   goodmorning\n",
      "outside function is var2 -  goodmorning\n",
      "outside function after modify -  verygood\n"
     ]
    }
   ],
   "source": [
    "var1 = \" hi \"\n",
    "def abc():\n",
    "    global var1\n",
    "    var1 = \" goodmorning\"\n",
    "    print(\"inside the function var1 is - \", var1)\n",
    "abc()\n",
    "print(\"outside function is var2 -\", var1)\n",
    "var1 = \" verygood\"\n",
    "print(\"outside function after modify -\", var1)"
   ]
  },
  {
   "cell_type": "code",
   "execution_count": 15,
   "metadata": {},
   "outputs": [
    {
     "name": "stdout",
     "output_type": "stream",
     "text": [
      "Inner variable :  22\n",
      "Outer variable :  11\n"
     ]
    }
   ],
   "source": [
    "# Program to demo access of var in inner & outer function\n",
    "def outer_fun():\n",
    "    outer_var = 11\n",
    "    def inner_fun():\n",
    "        inner_var = 22\n",
    "        print(\"Inner variable : \", inner_var)\n",
    "    inner_fun()\n",
    "    print(\"Outer variable : \", outer_var)\n",
    "outer_fun()"
   ]
  },
  {
   "cell_type": "code",
   "execution_count": 17,
   "metadata": {},
   "outputs": [
    {
     "name": "stdout",
     "output_type": "stream",
     "text": [
      "1000\n"
     ]
    }
   ],
   "source": [
    "# Writing a function and return its cubation format\n",
    "def cube(x):\n",
    "    return (x*x*x)\n",
    "num = 10\n",
    "result = cube(num) # cube(10)\n",
    "print(result)"
   ]
  },
  {
   "cell_type": "code",
   "execution_count": 21,
   "metadata": {},
   "outputs": [
    {
     "name": "stdout",
     "output_type": "stream",
     "text": [
      "The cube of  1 is 1\n",
      "The cube of  2 is 8\n",
      "The cube of  3 is 27\n",
      "The cube of  4 is 64\n",
      "The cube of  5 is 125\n",
      "The cube of  6 is 216\n"
     ]
    }
   ],
   "source": [
    "def cube(x):\n",
    "    for i in range(1, x+1):\n",
    "        result=i*i*i\n",
    "        print(\"The cube of \", i, \"is\", result)\n",
    "cube(2*3) # cube(6)"
   ]
  },
  {
   "cell_type": "code",
   "execution_count": 23,
   "metadata": {},
   "outputs": [
    {
     "name": "stdout",
     "output_type": "stream",
     "text": [
      "The String is   hi\n",
      "The Integer is  1234\n",
      "The Float is  5678.9998\n",
      "The Character is  c\n"
     ]
    }
   ],
   "source": [
    "# Program to demo key args\n",
    "\n",
    "def display(str, int_x, float_y, char):\n",
    "    print(\"The String is \", str)\n",
    "    print(\"The Integer is \", int_x)\n",
    "    print(\"The Float is \", float_y)\n",
    "    print(\"The Character is \", char)\n",
    "display(float_y = 5678.9998, str=\" hi\", int_x = 1234, char=\"c\")"
   ]
  },
  {
   "cell_type": "code",
   "execution_count": 34,
   "metadata": {},
   "outputs": [
    {
     "name": "stdout",
     "output_type": "stream",
     "text": [
      "Name is  Vijay\n",
      "Age is  30\n",
      "Salary 60000.89\n"
     ]
    }
   ],
   "source": [
    "# Program to demo key args\n",
    "\n",
    "def display(name, age, salary):\n",
    "    print(\"Name is \", name)\n",
    "    print(\"Age is \", age)\n",
    "    print(\"Salary\", salary)\n",
    "a = \"Vijay\"\n",
    "b = 30\n",
    "c = 60000.89\n",
    "display(a,b,c)"
   ]
  },
  {
   "cell_type": "code",
   "execution_count": 35,
   "metadata": {},
   "outputs": [
    {
     "name": "stdout",
     "output_type": "stream",
     "text": [
      "Sum =  60\n"
     ]
    }
   ],
   "source": [
    "addition = lambda x,y,z:x+y+z\n",
    "print(\"Sum = \", addition(10,20,30))"
   ]
  },
  {
   "cell_type": "code",
   "execution_count": 36,
   "metadata": {},
   "outputs": [
    {
     "data": {
      "text/plain": [
       "10"
      ]
     },
     "execution_count": 36,
     "metadata": {},
     "output_type": "execute_result"
    }
   ],
   "source": [
    "y = lambda x,y,z:x+y+z\n",
    "y(5,2,3)"
   ]
  },
  {
   "cell_type": "code",
   "execution_count": 37,
   "metadata": {},
   "outputs": [
    {
     "name": "stdout",
     "output_type": "stream",
     "text": [
      "Smaller of two numbers is  -5\n"
     ]
    }
   ],
   "source": [
    "# Program to find smaller number by lambda\n",
    "def small(a,b):\n",
    "    if (a<b):\n",
    "        return a\n",
    "    else:\n",
    "        return b\n",
    "add = lambda x,y: x+y\n",
    "diff = lambda x,y:x-y\n",
    "print(\"Smaller of two numbers is \", small(add(-3, -2),diff(-1,2)))"
   ]
  },
  {
   "cell_type": "code",
   "execution_count": 45,
   "metadata": {},
   "outputs": [
    {
     "name": "stdout",
     "output_type": "stream",
     "text": [
      "a = 100\n",
      "a after incrementing\n",
      "101\n"
     ]
    }
   ],
   "source": [
    "def increment(y):\n",
    "    return (lambda x : x+1)(y)\n",
    "a = 100\n",
    "print(\"a =\", a)\n",
    "print(\"a after incrementing\")\n",
    "b = increment(a)\n",
    "print(b)"
   ]
  },
  {
   "cell_type": "code",
   "execution_count": 46,
   "metadata": {},
   "outputs": [
    {
     "name": "stdout",
     "output_type": "stream",
     "text": [
      "8\n",
      "9\n"
     ]
    }
   ],
   "source": [
    "# Program to pass a lambda fun as a function arg\n",
    "def fun(f, n):\n",
    "    print(f(n)) # twice(4)\n",
    "twice = lambda x : x*2\n",
    "triple = lambda x : x*3\n",
    "fun(twice, 4)\n",
    "fun(triple, 3)"
   ]
  },
  {
   "cell_type": "code",
   "execution_count": 47,
   "metadata": {},
   "outputs": [
    {
     "name": "stdout",
     "output_type": "stream",
     "text": [
      "27\n"
     ]
    }
   ],
   "source": [
    "add = lambda x,y: x+y\n",
    "m_and_add = lambda x,y,z : x*add(y,z)\n",
    "print(m_and_add(3,4,5))"
   ]
  },
  {
   "cell_type": "code",
   "execution_count": 48,
   "metadata": {},
   "outputs": [
    {
     "name": "stdout",
     "output_type": "stream",
     "text": [
      "55\n"
     ]
    }
   ],
   "source": [
    "x = lambda : sum(range(1,11))\n",
    "print(x())"
   ]
  },
  {
   "cell_type": "code",
   "execution_count": 51,
   "metadata": {},
   "outputs": [
    {
     "name": "stdout",
     "output_type": "stream",
     "text": [
      "Before swapping : \n",
      "a =  10\n",
      "b =  20\n",
      "After swapping : \n",
      "a =  20\n",
      "b =  10\n",
      "(20, 10)\n"
     ]
    }
   ],
   "source": [
    "# swap using functionth\n",
    "def swap(a,b):\n",
    "    print(\"Before swapping : \")\n",
    "    print(\"a = \",a)\n",
    "    print(\"b = \",b)\n",
    "    a,b=b,a\n",
    "    print(\"After swapping : \")\n",
    "    print(\"a = \",a)\n",
    "    print(\"b = \",b)\n",
    "    return a,b\n",
    "a=10\n",
    "b=20\n",
    "c=swap(a,b)\n",
    "print(c)"
   ]
  },
  {
   "cell_type": "code",
   "execution_count": 54,
   "metadata": {},
   "outputs": [
    {
     "name": "stdout",
     "output_type": "stream",
     "text": [
      "Teja Harshini Anishetty\n"
     ]
    }
   ],
   "source": [
    "def name(fn,ln):\n",
    "    s = ' '\n",
    "    n = fn+s+ln # fn=first name , s=space , ln=last name\n",
    "    return n\n",
    "print(name(\"Teja Harshini\",\"Anishetty\"))"
   ]
  },
  {
   "cell_type": "code",
   "execution_count": 58,
   "metadata": {},
   "outputs": [
    {
     "name": "stdout",
     "output_type": "stream",
     "text": [
      "Enter a number : 3\n",
      "3 is a Odd number\n"
     ]
    }
   ],
   "source": [
    "# Even or Odd number\n",
    "def eo(n):\n",
    "    if a%2==0:\n",
    "        return 1\n",
    "    else:\n",
    "        return -1\n",
    "a = int(input(\"Enter a number : \"))\n",
    "flag = eo(a)\n",
    "if flag==1:\n",
    "    print(a ,\"is a Even number\")\n",
    "else:\n",
    "    print(a ,\"is a Odd number\")"
   ]
  },
  {
   "cell_type": "code",
   "execution_count": 59,
   "metadata": {},
   "outputs": [
    {
     "ename": "NameError",
     "evalue": "name 'pXrXROI' is not defined",
     "output_type": "error",
     "traceback": [
      "\u001b[1;31m---------------------------------------------------------------------------\u001b[0m",
      "\u001b[1;31mNameError\u001b[0m                                 Traceback (most recent call last)",
      "\u001b[1;32m<ipython-input-59-8cc5b9f5a11a>\u001b[0m in \u001b[0;36m<module>\u001b[1;34m\u001b[0m\n\u001b[0;32m      1\u001b[0m \u001b[0mp\u001b[0m \u001b[1;33m=\u001b[0m \u001b[1;36m200\u001b[0m\u001b[1;33m\u001b[0m\u001b[1;33m\u001b[0m\u001b[0m\n\u001b[0;32m      2\u001b[0m \u001b[0mr\u001b[0m \u001b[1;33m=\u001b[0m \u001b[1;36m3\u001b[0m\u001b[1;33m\u001b[0m\u001b[1;33m\u001b[0m\u001b[0m\n\u001b[1;32m----> 3\u001b[1;33m \u001b[0msi\u001b[0m \u001b[1;33m=\u001b[0m \u001b[0mpXrXROI\u001b[0m\u001b[1;33m/\u001b[0m\u001b[1;36m100\u001b[0m\u001b[1;33m\u001b[0m\u001b[1;33m\u001b[0m\u001b[0m\n\u001b[0m",
      "\u001b[1;31mNameError\u001b[0m: name 'pXrXROI' is not defined"
     ]
    }
   ],
   "source": [
    "# Write a program to calculate Simple Interest. Suppose the customer is a senior citizen. He is being offered 12% ROI(Rate of Interest); for all other customers, the ROI is 10%\n",
    "p = 200\n",
    "r = 3\n",
    "si = pXrXROI/100"
   ]
  },
  {
   "cell_type": "code",
   "execution_count": 5,
   "metadata": {},
   "outputs": [
    {
     "name": "stdout",
     "output_type": "stream",
     "text": [
      "5\n",
      "120\n"
     ]
    }
   ],
   "source": [
    "def fact(n):\n",
    "    if (n==1 or n==0):\n",
    "        return 1\n",
    "    else:\n",
    "        return n*fact(n-1)\n",
    "n = int(input())\n",
    "print(fact(n))"
   ]
  },
  {
   "cell_type": "code",
   "execution_count": 6,
   "metadata": {},
   "outputs": [
    {
     "name": "stdout",
     "output_type": "stream",
     "text": [
      "5\n",
      "3\n",
      "Result = 125\n"
     ]
    }
   ],
   "source": [
    "# Program to find the exp(x,y) using recursion function\n",
    "def expo(x,y):\n",
    "    if y==0:\n",
    "        return 1\n",
    "    else:\n",
    "        return(x*expo(x,y-1))\n",
    "n = int(input())\n",
    "m = int(input())\n",
    "print(\"Result =\", expo(n,m))"
   ]
  },
  {
   "cell_type": "code",
   "execution_count": 13,
   "metadata": {},
   "outputs": [
    {
     "name": "stdout",
     "output_type": "stream",
     "text": [
      "How many terms of series are required? : 9\n",
      "Fibonacci series generated is : \n",
      "0\n",
      "1\n",
      "1\n",
      "2\n",
      "3\n",
      "5\n",
      "8\n",
      "13\n",
      "21\n"
     ]
    }
   ],
   "source": [
    "# Program to find the fibonacci series using recursion function\n",
    "def fibonacci(n):\n",
    "    if n<2:\n",
    "        return n\n",
    "    return (fibonacci(n-1)+fibonacci(n-2))\n",
    "n = int(input(\"How many terms of series are required? : \"))\n",
    "print(\"Fibonacci series generated is : \")\n",
    "for i in range(n):\n",
    "    print(fibonacci(i))"
   ]
  },
  {
   "cell_type": "code",
   "execution_count": 11,
   "metadata": {},
   "outputs": [
    {
     "name": "stdout",
     "output_type": "stream",
     "text": [
      "Enter a number : 0\n",
      "Enter a number : 50\n",
      "1\n",
      "1\n",
      "2\n",
      "3\n",
      "5\n",
      "8\n",
      "13\n",
      "21\n",
      "34\n"
     ]
    }
   ],
   "source": [
    "a = int(input(\"Enter a number : \"))\n",
    "b = int(input(\"Enter a number : \"))\n",
    "x,y=0,1\n",
    "while y<50:\n",
    "    print(y)\n",
    "    x,y = y,x+y"
   ]
  },
  {
   "cell_type": "code",
   "execution_count": 8,
   "metadata": {},
   "outputs": [
    {
     "name": "stdout",
     "output_type": "stream",
     "text": [
      "[1, 2, 3, 4] [] []\n",
      "[] [] [1, 2, 3, 4]\n"
     ]
    }
   ],
   "source": [
    "# iteration program\n",
    "def hanoi(n,A,B,C):\n",
    "    if n>0:\n",
    "        hanoi(n-1, A, C, B)\n",
    "        if A:\n",
    "            C.append(A.pop())\n",
    "        hanoi(n-1, B, A, C)\n",
    "A = [1,2,3,4]\n",
    "B = []\n",
    "C = []\n",
    "print(A,B,C)\n",
    "hanoi(len(A),A,B,C)\n",
    "print(A,B,C)"
   ]
  },
  {
   "cell_type": "code",
   "execution_count": null,
   "metadata": {},
   "outputs": [],
   "source": []
  },
  {
   "cell_type": "code",
   "execution_count": 23,
   "metadata": {},
   "outputs": [
    {
     "name": "stdout",
     "output_type": "stream",
     "text": [
      "6\n",
      "[2, 4, 1, 5, 7, 9]\n"
     ]
    }
   ],
   "source": [
    "import numpy as np\n",
    "n=int(input())\n",
    "arr=np.array([2,7,1,4,9,5])\n",
    "a=[]\n",
    "b=[]\n",
    "if(n<=0):\n",
    "    print(\"Invalid Input\")\n",
    "else:\n",
    "    for i in range(n):\n",
    "        if arr[i]%2==0:\n",
    "            a.append(arr[i])\n",
    "        else:\n",
    "            b.append(arr[i])\n",
    "print(sorted(a)+sorted(b))"
   ]
  },
  {
   "cell_type": "code",
   "execution_count": 24,
   "metadata": {},
   "outputs": [
    {
     "name": "stdout",
     "output_type": "stream",
     "text": [
      "6\n",
      "2 7 1 4 9 5\n",
      "2 4 1 5 7 9 "
     ]
    }
   ],
   "source": [
    "n=int(input())\n",
    "if(n<=0):\n",
    "    print(\"Invalid Input\")\n",
    "    exit\n",
    "x=input().split()\n",
    "if(n!=len(x)):\n",
    "    exit\n",
    "x=[int(i) for i in x]\n",
    "o=[]\n",
    "e=[]\n",
    "for i in x:\n",
    "    if(i%2==0):\n",
    "        e.append(i)\n",
    "    else:\n",
    "        o.append(i)\n",
    "        \n",
    "e.sort()\n",
    "o.sort()\n",
    "l=e+o\n",
    "for i in l:\n",
    "    print(i,end=\" \")"
   ]
  },
  {
   "cell_type": "markdown",
   "metadata": {},
   "source": [
    "# DAY - 5"
   ]
  },
  {
   "cell_type": "code",
   "execution_count": 1,
   "metadata": {},
   "outputs": [
    {
     "name": "stdout",
     "output_type": "stream",
     "text": [
      "22\n"
     ]
    }
   ],
   "source": [
    "# Program to access a class var using a class object\n",
    "class abc:\n",
    "    var = 22\n",
    "obj = abc()\n",
    "print(obj.var)"
   ]
  },
  {
   "cell_type": "code",
   "execution_count": 5,
   "metadata": {},
   "outputs": [
    {
     "name": "stdout",
     "output_type": "stream",
     "text": [
      "22\n",
      "This is class method\n"
     ]
    }
   ],
   "source": [
    "# Program to access a class member using class object\n",
    "class abc:\n",
    "    var = 22\n",
    "    def display(self):\n",
    "        print(\"This is class method\")\n",
    "obj = abc()\n",
    "print(obj.var)\n",
    "obj.display()"
   ]
  },
  {
   "cell_type": "code",
   "execution_count": 6,
   "metadata": {},
   "outputs": [
    {
     "name": "stdout",
     "output_type": "stream",
     "text": [
      "22\n",
      "This is class method\n",
      "10\n"
     ]
    }
   ],
   "source": [
    "# Program to access a class member using class object\n",
    "class abc:\n",
    "    var = 22\n",
    "    def display(self):\n",
    "        b = 10\n",
    "        print(\"This is class method\")\n",
    "        print(b) # return b\n",
    "obj = abc()\n",
    "print(obj.var)\n",
    "obj.display()"
   ]
  },
  {
   "cell_type": "code",
   "execution_count": 7,
   "metadata": {},
   "outputs": [
    {
     "name": "stdout",
     "output_type": "stream",
     "text": [
      "22\n",
      "33\n"
     ]
    }
   ],
   "source": [
    "# Program to access a class member using class object\n",
    "class abc:\n",
    "    var = 22\n",
    "    var2 = 33\n",
    "obj = abc()\n",
    "print(obj.var)\n",
    "print(obj.var2)"
   ]
  },
  {
   "cell_type": "code",
   "execution_count": 8,
   "metadata": {},
   "outputs": [
    {
     "name": "stdout",
     "output_type": "stream",
     "text": [
      "This is class method\n",
      "The value is : 10\n"
     ]
    }
   ],
   "source": [
    "# Program to illustrate the constructor\n",
    "# __init__()......method\n",
    "class abc:\n",
    "    def __init__(self, val):\n",
    "        print(\"This is class method\")\n",
    "        self.val = val\n",
    "        print(\"The value is :\", val)\n",
    "obj = abc(10)"
   ]
  },
  {
   "cell_type": "code",
   "execution_count": 9,
   "metadata": {},
   "outputs": [
    {
     "name": "stdout",
     "output_type": "stream",
     "text": [
      "The obj var is  10\n",
      "The class value of c-=var : 1\n",
      "The obj var is  20\n",
      "The class value of c-=var : 2\n",
      "The obj var is  30\n",
      "The class value of c-=var : 3\n"
     ]
    }
   ],
   "source": [
    "# Program to differentiate between class and obj variable\n",
    "# __init__()......method\n",
    "class abc:\n",
    "    class_var = 0  # class var\n",
    "    def __init__(self, var):\n",
    "        abc.class_var += 1\n",
    "        self.var = var    # obj var\n",
    "        print(\"The obj var is \", var)\n",
    "        print(\"The class value of c-=var :\", abc.class_var)\n",
    "obj1 = abc(10)\n",
    "obj2 = abc(20)\n",
    "obj3 = abc(30)"
   ]
  },
  {
   "cell_type": "code",
   "execution_count": 12,
   "metadata": {},
   "outputs": [
    {
     "name": "stdout",
     "output_type": "stream",
     "text": [
      "22  is even\n"
     ]
    }
   ],
   "source": [
    "# Program illustrating a modification on numerics\n",
    "class Number:\n",
    "    even=0\n",
    "    def check(self,num):\n",
    "        if num%2==0:\n",
    "            self.even=1\n",
    "    def even_odd(self,num):\n",
    "        self.check(num)\n",
    "        if self.even==1:\n",
    "            print(num, \" is even\")\n",
    "        else:\n",
    "            print(num, \" is odd\")\n",
    "n = Number()\n",
    "n.even_odd(22)"
   ]
  },
  {
   "cell_type": "code",
   "execution_count": 13,
   "metadata": {},
   "outputs": [
    {
     "name": "stdout",
     "output_type": "stream",
     "text": [
      "Even numbers are  [32, 54, 22]\n",
      "Odd numbers are  [21, 43, 65]\n"
     ]
    }
   ],
   "source": [
    "# Program illustrating a modification on numerics\n",
    "class Number:\n",
    "    evens = []\n",
    "    odds = []\n",
    "    def __init__(self,num):\n",
    "        self.num=num\n",
    "        if num%2 == 0:\n",
    "            Number.evens.append(num)\n",
    "        else:\n",
    "            Number.odds.append(num)\n",
    "n1 = Number(21)\n",
    "n2 = Number(32)\n",
    "n3 = Number(43)\n",
    "n4 = Number(54)\n",
    "n5 = Number(65)\n",
    "n6 = Number(22)\n",
    "print(\"Even numbers are \", Number.evens)\n",
    "print(\"Odd numbers are \", Number.odds)"
   ]
  },
  {
   "cell_type": "code",
   "execution_count": 8,
   "metadata": {},
   "outputs": [
    {
     "name": "stdout",
     "output_type": "stream",
     "text": [
      "the obj value is 11\n",
      "the class value 1\n",
      "the obj value is 22\n",
      "the class value 2\n",
      "the obj value is 33\n",
      "the class value 3\n",
      "object with value 11 is going out of scope\n",
      "object with value 22 is going out of scope\n",
      "object with value 33 is going out of scope\n"
     ]
    }
   ],
   "source": [
    "# delete method --- c++/ java analogus to destructors\n",
    "# general syntax __del__\n",
    "class abc():\n",
    "    class_var = 0\n",
    "    def __init__(self,var):\n",
    "        abc.class_var+=1\n",
    "        self.var=var\n",
    "        print(\"the obj value is\",var)\n",
    "        print(\"the class value\", abc.class_var)\n",
    "    def __del__(self):\n",
    "        abc.class_var-=1\n",
    "        print(\"object with value %d is going out of scope\"%self.var)\n",
    "obj1=abc(11)\n",
    "obj2=abc(22)\n",
    "obj3=abc(33)\n",
    "del obj1\n",
    "del obj2\n",
    "del obj3"
   ]
  },
  {
   "cell_type": "raw",
   "metadata": {},
   "source": [
    "1. __repr__ -----> syntax report of the object\n",
    "2. __cmp__ ------> compares two class objects\n",
    "3. __len__ ------> len(object)\n",
    "4. __call__ -----> it acts like a func to cal its instances\n",
    "5. __lt__, __le__, __eq__, __ne__, __gt__, __ge__, __cmp__ ----> to compare two objects\n",
    "6. __iter__ -----> iteration over an object\n",
    "7. __getitem__ used for indexing\n",
    "   gs : def __getitem__(self, var/key)\n",
    "8. Set item assign an item to the indexed value"
   ]
  },
  {
   "cell_type": "code",
   "execution_count": 17,
   "metadata": {},
   "outputs": [
    {
     "name": "stdout",
     "output_type": "stream",
     "text": [
      "[1, 2, 3, 4, 5, 6, 7, 8, 9]\n",
      "4\n",
      "[1, 2, 3, 10, 5, 6, 7, 8, 9]\n",
      "10\n"
     ]
    }
   ],
   "source": [
    "# Program to demonstrate get and set items in a list\n",
    "class numbers:\n",
    "    def __init__(self,mylist):\n",
    "        self.mylist = mylist\n",
    "    def __getitem__(self, index):\n",
    "        return self.mylist[index]\n",
    "    def __setitem__(self, index, val):\n",
    "        self.mylist[index] = val\n",
    "numlist = numbers([1,2,3,4,5,6,7,8,9])\n",
    "print(numlist.mylist)\n",
    "print(numlist[3])\n",
    "numlist[3] = 10\n",
    "print(numlist.mylist)\n",
    "print(numlist[3])"
   ]
  },
  {
   "cell_type": "code",
   "execution_count": 41,
   "metadata": {},
   "outputs": [
    {
     "name": "stdout",
     "output_type": "stream",
     "text": [
      "The value stored in obj is  10\n",
      "The length of the name stored in obj 6\n",
      "2nd value is less than first value\n"
     ]
    }
   ],
   "source": [
    "class ABC():\n",
    "    def __init__(self, name, var):\n",
    "        self.name = name\n",
    "        self.var = var\n",
    "    def __repr__(self):\n",
    "        return repr(self.var)\n",
    "    def __len__(self):\n",
    "        return len(self.name)\n",
    "    def __cmp__(self,obj):\n",
    "        return self.var - obj.var\n",
    "obj = ABC(\"abcdef\", 10)\n",
    "print(\"The value stored in obj is \", repr(obj))\n",
    "print(\"The length of the name stored in obj\", len(obj))\n",
    "obj1 = ABC(\"ghijkl\", 1)\n",
    "val = obj.__cmp__(obj1)\n",
    "if val==0:\n",
    "    print(\"Both values are equal\")\n",
    "elif val == -1:\n",
    "    print(\"1st value is less than second value\")\n",
    "else:\n",
    "    print(\"2nd value is less than first value\")"
   ]
  },
  {
   "cell_type": "code",
   "execution_count": 30,
   "metadata": {},
   "outputs": [
    {
     "name": "stdout",
     "output_type": "stream",
     "text": [
      "This is from class method, var =  10\n"
     ]
    }
   ],
   "source": [
    "# is for illustrating use of a private method\n",
    "class abc():\n",
    "    def __init__(self, var):\n",
    "        self.__var = var\n",
    "    def __display(self):\n",
    "        print(\"This is from class method, var = \",self.__var)\n",
    "obj = abc(10)\n",
    "obj._abc__display()"
   ]
  },
  {
   "cell_type": "code",
   "execution_count": 28,
   "metadata": {},
   "outputs": [
    {
     "name": "stdout",
     "output_type": "stream",
     "text": [
      "var is =  12\n"
     ]
    }
   ],
   "source": [
    "# To call a class method form another method of same class\n",
    "class abc():\n",
    "    def __init__(self, var):\n",
    "        self.var = var\n",
    "    def display(self):\n",
    "        print(\"var is = \",self.var)\n",
    "    def add_2(self):\n",
    "        self.var +=2\n",
    "        self.display()\n",
    "obj = abc(10)\n",
    "obj.add_2()"
   ]
  },
  {
   "cell_type": "code",
   "execution_count": 43,
   "metadata": {},
   "outputs": [
    {
     "name": "stdout",
     "output_type": "stream",
     "text": [
      "var is = 10\n"
     ]
    },
    {
     "ename": "NameError",
     "evalue": "name 'scale_10' is not defined",
     "output_type": "error",
     "traceback": [
      "\u001b[1;31m---------------------------------------------------------------------------\u001b[0m",
      "\u001b[1;31mNameError\u001b[0m                                 Traceback (most recent call last)",
      "\u001b[1;32m<ipython-input-43-ebbd9a2fab91>\u001b[0m in \u001b[0;36m<module>\u001b[1;34m\u001b[0m\n\u001b[0;32m      9\u001b[0m \u001b[0mobj\u001b[0m \u001b[1;33m=\u001b[0m \u001b[0mabc\u001b[0m\u001b[1;33m(\u001b[0m\u001b[1;36m10\u001b[0m\u001b[1;33m)\u001b[0m\u001b[1;33m\u001b[0m\u001b[1;33m\u001b[0m\u001b[0m\n\u001b[0;32m     10\u001b[0m \u001b[0mobj\u001b[0m\u001b[1;33m.\u001b[0m\u001b[0mdisplay\u001b[0m\u001b[1;33m(\u001b[0m\u001b[1;33m)\u001b[0m\u001b[1;33m\u001b[0m\u001b[1;33m\u001b[0m\u001b[0m\n\u001b[1;32m---> 11\u001b[1;33m \u001b[0mobj\u001b[0m\u001b[1;33m.\u001b[0m\u001b[0mmodify\u001b[0m\u001b[1;33m(\u001b[0m\u001b[1;33m)\u001b[0m\u001b[1;33m\u001b[0m\u001b[1;33m\u001b[0m\u001b[0m\n\u001b[0m\u001b[0;32m     12\u001b[0m \u001b[0mobj\u001b[0m\u001b[1;33m.\u001b[0m\u001b[0mdisplay\u001b[0m\u001b[1;33m(\u001b[0m\u001b[1;33m)\u001b[0m\u001b[1;33m\u001b[0m\u001b[1;33m\u001b[0m\u001b[0m\n",
      "\u001b[1;32m<ipython-input-43-ebbd9a2fab91>\u001b[0m in \u001b[0;36mmodify\u001b[1;34m(self)\u001b[0m\n\u001b[0;32m      6\u001b[0m         \u001b[0mprint\u001b[0m\u001b[1;33m(\u001b[0m\u001b[1;34m\"var is =\"\u001b[0m\u001b[1;33m,\u001b[0m \u001b[0mself\u001b[0m\u001b[1;33m.\u001b[0m\u001b[0mvar\u001b[0m\u001b[1;33m)\u001b[0m\u001b[1;33m\u001b[0m\u001b[1;33m\u001b[0m\u001b[0m\n\u001b[0;32m      7\u001b[0m     \u001b[1;32mdef\u001b[0m \u001b[0mmodify\u001b[0m\u001b[1;33m(\u001b[0m\u001b[0mself\u001b[0m\u001b[1;33m)\u001b[0m\u001b[1;33m:\u001b[0m\u001b[1;33m\u001b[0m\u001b[1;33m\u001b[0m\u001b[0m\n\u001b[1;32m----> 8\u001b[1;33m         \u001b[0mself\u001b[0m\u001b[1;33m.\u001b[0m\u001b[0mvar\u001b[0m \u001b[1;33m=\u001b[0m \u001b[0mscale_10\u001b[0m\u001b[1;33m(\u001b[0m\u001b[0mself\u001b[0m\u001b[1;33m.\u001b[0m\u001b[0mvar\u001b[0m\u001b[1;33m)\u001b[0m\u001b[1;33m\u001b[0m\u001b[1;33m\u001b[0m\u001b[0m\n\u001b[0m\u001b[0;32m      9\u001b[0m \u001b[0mobj\u001b[0m \u001b[1;33m=\u001b[0m \u001b[0mabc\u001b[0m\u001b[1;33m(\u001b[0m\u001b[1;36m10\u001b[0m\u001b[1;33m)\u001b[0m\u001b[1;33m\u001b[0m\u001b[1;33m\u001b[0m\u001b[0m\n\u001b[0;32m     10\u001b[0m \u001b[0mobj\u001b[0m\u001b[1;33m.\u001b[0m\u001b[0mdisplay\u001b[0m\u001b[1;33m(\u001b[0m\u001b[1;33m)\u001b[0m\u001b[1;33m\u001b[0m\u001b[1;33m\u001b[0m\u001b[0m\n",
      "\u001b[1;31mNameError\u001b[0m: name 'scale_10' is not defined"
     ]
    }
   ],
   "source": [
    "# Global access method for\n",
    "\n",
    "\n",
    "class abc():\n",
    "    def __init__(self, var):\n",
    "        self.var=var\n",
    "    def display(self):\n",
    "        print(\"var is =\", self.var)\n",
    "    def modify(self):\n",
    "        self.var = scale_10(self.var)\n",
    "obj = abc(10)\n",
    "obj.display()\n",
    "obj.modify()\n",
    "obj.display()"
   ]
  },
  {
   "cell_type": "raw",
   "metadata": {},
   "source": [
    "# Built-in attributes\n",
    "# For get set and delete\n",
    "1. hasattr(obj,name) ---> checks obj possess the attributes values or not  # attr-attribute\n",
    "2. getattr(obj,name[,default])\n",
    "3. setaatr(obj,name,value) ---> which is used to set an attribute of the obj\n",
    "4. delattr(obj,name)"
   ]
  },
  {
   "cell_type": "code",
   "execution_count": 44,
   "metadata": {},
   "outputs": [
    {
     "name": "stdout",
     "output_type": "stream",
     "text": [
      "var is = 10\n",
      "Check whether obj has attributes var ? True\n",
      "After setting value, var is  50\n",
      "New variable count is created and its val = 10\n",
      "After deleting the attr, var is :  40\n"
     ]
    }
   ],
   "source": [
    "# Program to demo built-in\n",
    "class abc():\n",
    "    def __init__(self, var):\n",
    "        self.var=var\n",
    "    def display(self):\n",
    "        print(\"var is =\", self.var)\n",
    "obj = abc(10)\n",
    "obj.display()\n",
    "print(\"Check whether obj has attributes var ?\", hasattr(obj,'var'))\n",
    "getattr(obj, 'var')\n",
    "setattr(obj, 'var', 50)\n",
    "print(\"After setting value, var is \", obj.var)\n",
    "setattr(obj, 'count', 10)\n",
    "print(\"New variable count is created and its val =\", obj.count)\n",
    "delattr(obj, 'var')\n",
    "setattr(obj, 'var', 40)\n",
    "print(\"After deleting the attr, var is : \", obj.var)"
   ]
  },
  {
   "cell_type": "code",
   "execution_count": 47,
   "metadata": {
    "scrolled": true
   },
   "outputs": [
    {
     "name": "stdout",
     "output_type": "stream",
     "text": [
      "var1 is = 10\n",
      "var2 is = 12.34\n",
      "object.__dict__ - {'var1': 10, 'var2': 12.34}\n",
      "object.__doc__ - None\n",
      "object.__name__ - abc\n",
      "object.__module__ - __main__\n",
      "object.__bases__ - (<class 'object'>,)\n"
     ]
    }
   ],
   "source": [
    "class abc():\n",
    "    def __init__(self, var1, var2):\n",
    "        self.var1 = var1\n",
    "        self.var2 = var2\n",
    "    def display(self):\n",
    "        print(\"var1 is =\", self.var1)\n",
    "        print(\"var2 is =\", self.var2)\n",
    "obj = abc(10, 12.34)\n",
    "obj.display()\n",
    "print(\"object.__dict__ -\", obj.__dict__)\n",
    "print(\"object.__doc__ -\", obj.__doc__)\n",
    "print(\"object.__name__ -\", abc.__name__)\n",
    "print(\"object.__module__ -\", obj.__module__)\n",
    "print(\"object.__bases__ -\", abc.__bases__)"
   ]
  },
  {
   "cell_type": "code",
   "execution_count": 48,
   "metadata": {},
   "outputs": [
    {
     "name": "stdout",
     "output_type": "stream",
     "text": [
      "Garbage collection threshold (700, 10, 10)\n"
     ]
    }
   ],
   "source": [
    "import gc\n",
    "collected = gc.collect()\n",
    "print(\"Garbage collection threshold\", gc.get_threshold())"
   ]
  },
  {
   "cell_type": "markdown",
   "metadata": {},
   "source": [
    "# DAY - 6"
   ]
  },
  {
   "cell_type": "code",
   "execution_count": 3,
   "metadata": {},
   "outputs": [
    {
     "name": "stdout",
     "output_type": "stream",
     "text": [
      "sweet vitamin A Diamond yellow\n",
      "sour vitamin C orange\n"
     ]
    }
   ],
   "source": [
    "# ABSTRACT class\n",
    "# ITS THE PROCESS OF HANDLING THE INFORMATION BY HIDING\n",
    "# INFORMAL OR UNNECESAARY INFORMATION FOR THE USER\n",
    "class fruit:\n",
    "    def taste(self):\n",
    "        raise NotImplementedError()\n",
    "        # abstract class lacks required derived class, by raising an exception\n",
    "    def rich(self):\n",
    "        raise NotImplementedError()\n",
    "    def color(self):\n",
    "        raise NotImplementedError()\n",
    "class mango(fruit):\n",
    "    def taste(self):\n",
    "        return \"sweet\"\n",
    "    def rich(self):\n",
    "        return \"vitamin A\"\n",
    "    def color(self):\n",
    "        return \"Diamond yellow\"\n",
    "class orange(fruit):\n",
    "    def taste(self):\n",
    "        return \"sour\"\n",
    "    def rich(self):\n",
    "        return \"vitamin C\"\n",
    "    def color(self):\n",
    "        return \"orange\"\n",
    "Alphanso = mango()\n",
    "print(Alphanso.taste(), Alphanso.rich(), Alphanso.color())\n",
    "Orange = orange()\n",
    "print(Orange.taste(), Orange.rich(), Orange.color())"
   ]
  },
  {
   "cell_type": "code",
   "execution_count": 7,
   "metadata": {},
   "outputs": [
    {
     "name": "stdout",
     "output_type": "stream",
     "text": [
      "Result is....\n",
      "( 4 + 6 i)\n"
     ]
    }
   ],
   "source": [
    "# Program to interviene polymorphism on a complex number\n",
    "class Complex():\n",
    "    def __init__(self):\n",
    "        self.real =0\n",
    "        self.img=0\n",
    "    def setValue(self, real, img):\n",
    "        self.real =real\n",
    "        self.img=img\n",
    "    def __add__(self,c):\n",
    "        temp = Complex()\n",
    "        temp.real = self.real + c.real\n",
    "        temp.img = self.img + c.img\n",
    "        return temp\n",
    "    def display(self):\n",
    "        print(\"(\", self.real, \"+\", self.img, \"i)\")\n",
    "c1 = Complex()\n",
    "c1.setValue(1,2)\n",
    "c2 = Complex()\n",
    "c2.setValue(3,4)\n",
    "c3 = c1+c2\n",
    "print(\"Result is....\")\n",
    "c3.display()"
   ]
  },
  {
   "cell_type": "code",
   "execution_count": 10,
   "metadata": {},
   "outputs": [
    {
     "name": "stdout",
     "output_type": "stream",
     "text": [
      "Enter Rectangle Length : 3\n",
      "Enter Rectangle Breadth : 4\n",
      "Area of a Rectangle :  12.0\n",
      "Enter Rectangle Base : 3\n",
      "Enter Rectangle Height : 4\n",
      "Area of a Triangle :  6.0\n"
     ]
    }
   ],
   "source": [
    "# Program that has abstract class to derive 2 classes\n",
    "# Rectangle and triangle from polygon class and \n",
    "# Write the methods to get their details and dimensions and hence calculate the Area respectively.\n",
    "class polygon:\n",
    "    def get_data(self):\n",
    "        raise NotImplementedError()\n",
    "    def area(self):\n",
    "        raise NotImplementedError()\n",
    "class rectangle(polygon):\n",
    "    def get_data(self):\n",
    "        self.length = float(input(\"Enter Rectangle Length : \"))\n",
    "        self.breadth = float(input(\"Enter Rectangle Breadth : \"))\n",
    "    def area(self):\n",
    "        return self.length * self.breadth\n",
    "class triangle(polygon):\n",
    "    def get_data(self):\n",
    "        self.base = float(input(\"Enter Rectangle Base : \"))\n",
    "        self.height = float(input(\"Enter Rectangle Height : \"))\n",
    "    def area(self):\n",
    "        return 0.5 * self.base * self.height\n",
    "R = rectangle()\n",
    "R.get_data()\n",
    "print(\"Area of a Rectangle : \", R.area())\n",
    "T = triangle()\n",
    "T.get_data()\n",
    "print(\"Area of a Triangle : \", T.area())"
   ]
  },
  {
   "cell_type": "code",
   "execution_count": 14,
   "metadata": {},
   "outputs": [
    {
     "name": "stdout",
     "output_type": "stream",
     "text": [
      "Roll number is  229\n"
     ]
    }
   ],
   "source": [
    "# Encapsuling public members\n",
    "class pub:\n",
    "    def __init__(self, name, num):\n",
    "        self.name = name\n",
    "        self.num = num\n",
    "    def Num(self):\n",
    "        print(\"Roll number is \", self.num)\n",
    "obj = pub(\"Harry\", 229)\n",
    "obj.Num()"
   ]
  },
  {
   "cell_type": "code",
   "execution_count": 16,
   "metadata": {},
   "outputs": [
    {
     "name": "stdout",
     "output_type": "stream",
     "text": [
      "50\n"
     ]
    }
   ],
   "source": [
    "# Program to overload the __call__ method\n",
    "class multi:\n",
    "    def __init__(self, num):\n",
    "        self.num = num\n",
    "    def __call__(self,O):\n",
    "        return self.num * O\n",
    "x = multi(10)\n",
    "print(x(5))"
   ]
  },
  {
   "cell_type": "code",
   "execution_count": 22,
   "metadata": {},
   "outputs": [
    {
     "name": "stdout",
     "output_type": "stream",
     "text": [
      "List is ............\n",
      "[1, 2, 3, 4, 5, 6, 7, 8, 9]\n",
      "Enter the index of the list : 5\n",
      "6\n",
      "Enter the index of the list : 6\n",
      "Enter the position u want to modify5\n",
      "[1, 2, 3, 4, 5, 6, 5, 8, 9]\n",
      "The length of list is  9\n"
     ]
    }
   ],
   "source": [
    "# Program to over-ride get-item and set-item methods\n",
    "class mylist:\n",
    "    def __init__(self, List):\n",
    "        self.List = List\n",
    "    def __getitem__(self, index):\n",
    "        return self.List[index]\n",
    "    def __setitem__(self, index, num):\n",
    "        self.List[index]=num\n",
    "    def __len__(self):\n",
    "        return len(self.List)\n",
    "    def display(self):\n",
    "        print(self.List)\n",
    "L = mylist([1,2,3,4,5,6,7,8,9])\n",
    "print(\"List is ............\")\n",
    "L.display()\n",
    "index = int(input(\"Enter the index of the list : \"))\n",
    "print(L[index])\n",
    "index = int(input(\"Enter the index of the list : \"))\n",
    "num = int(input(\"Enter the position u want to modify\"))\n",
    "L[index] = num\n",
    "L.display()\n",
    "print(\"The length of list is \", len(L))"
   ]
  },
  {
   "cell_type": "code",
   "execution_count": null,
   "metadata": {},
   "outputs": [],
   "source": [
    "# SPECIAL OR MISCELLANEOUS FUNCTIONS \n",
    "\n",
    "\n",
    "\n"
   ]
  },
  {
   "cell_type": "code",
   "execution_count": 25,
   "metadata": {
    "scrolled": true
   },
   "outputs": [
    {
     "name": "stdout",
     "output_type": "stream",
     "text": [
      "teache class\n",
      "My name is mark\n",
      "age is 43\n",
      "experience is 20\n",
      "reqasearch is jss\n",
      "student class\n",
      "My name is meena\n",
      "age is 17\n",
      "course= b.tech\n",
      "marks= 87\n"
     ]
    }
   ],
   "source": [
    "# To \n",
    "#inheritace\n",
    "class person:\n",
    "    def __init__(self,name,age):\n",
    "        self.name=name\n",
    "        self.age=age\n",
    "    def display(self):\n",
    "        print(\"My name is\",self.name)\n",
    "        print(\"age is\",self.age)\n",
    "class teacher(person):\n",
    "    def __init__(self,name,age,exp,rarea):\n",
    "        person.__init__(self,name,age)\n",
    "        self.exp=exp\n",
    "        self.rarea=rarea\n",
    "    def displaydata(self):\n",
    "        person.display(self)\n",
    "        print(\"experience is\",self.exp)\n",
    "        print(\"reqasearch is\",self.rarea)\n",
    "class student(person):\n",
    "    def __init__(self,name,age,course,marks):\n",
    "        person.__init__(self,name,age)\n",
    "        self.course=course\n",
    "        self.marks=marks\n",
    "    def displaydata(self):\n",
    "        person.display(self)\n",
    "        print(\"course=\",self.course)\n",
    "        print(\"marks=\",self.marks)\n",
    "print(\"teache class\")\n",
    "T=teacher(\"mark\",43,20,\"jss\")\n",
    "T.displaydata()\n",
    "print(\"student class\")\n",
    "S=student(\"meena\",17,\"b.tech\",87)\n",
    "S.displaydata()"
   ]
  },
  {
   "cell_type": "code",
   "execution_count": null,
   "metadata": {},
   "outputs": [],
   "source": [
    "# Program to invoke __init__ in multiple inheritance\n",
    "class base1(object):\n",
    "    def __init__(self):\n",
    "        print(\"Base class 1\")\n",
    "class base"
   ]
  }
 ],
 "metadata": {
  "kernelspec": {
   "display_name": "Python 3",
   "language": "python",
   "name": "python3"
  },
  "language_info": {
   "codemirror_mode": {
    "name": "ipython",
    "version": 3
   },
   "file_extension": ".py",
   "mimetype": "text/x-python",
   "name": "python",
   "nbconvert_exporter": "python",
   "pygments_lexer": "ipython3",
   "version": "3.8.5"
  }
 },
 "nbformat": 4,
 "nbformat_minor": 4
}
