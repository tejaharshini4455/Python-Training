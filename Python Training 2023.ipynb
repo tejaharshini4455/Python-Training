{
 "cells": [
  {
   "cell_type": "markdown",
   "metadata": {},
   "source": [
    "# 02-01-2023"
   ]
  },
  {
   "cell_type": "code",
   "execution_count": 6,
   "metadata": {},
   "outputs": [
    {
     "name": "stdout",
     "output_type": "stream",
     "text": [
      "6\n",
      "101000\n",
      "1\n"
     ]
    }
   ],
   "source": [
    "\"\"\"\n",
    "A digital machine generates binary data which consists of a string of Os and 1s. A maximum signal M, in the data, consists  of \n",
    "the maximum number of either 1s or 0s appearing consecutively in thedata but M can't be at the beginning or end of the string.\n",
    "Design a way to find the length of the maximum signal,\n",
    "Input\n",
    "The first line of the input consists of an integer N, representing the length of the binary string. The second line consists \n",
    "of a string of length N consisting of Os and 1s only.\n",
    "\"\"\"\n",
    "size=int(input())\n",
    "max=0\n",
    "count=0\n",
    "flag=0\n",
    "str=input()\n",
    "arr=list(str)\n",
    "for i in range(0,size):\n",
    "    if arr[i]=='1':\n",
    "        count=count+1;\n",
    "        flag=1\n",
    "    elif (arr[i]=='0' and flag==1):\n",
    "        count=0\n",
    "        flag=0\n",
    "    if count>max:\n",
    "        max=count\n",
    "print(max)"
   ]
  },
  {
   "cell_type": "code",
   "execution_count": 3,
   "metadata": {},
   "outputs": [
    {
     "name": "stdout",
     "output_type": "stream",
     "text": [
      "200\n",
      "540\n",
      "tw =  130\n",
      "fw =  70\n"
     ]
    }
   ],
   "source": [
    "v=int(input())\n",
    "w=int(input())\n",
    "if w&1==1 or w<2 or w<=v:\n",
    "    print(\"invalid iput\")\n",
    "else:\n",
    "    x=((4*v)-w)//2\n",
    "print(\"tw = \",x)\n",
    "print(\"fw = \",v-x)"
   ]
  },
  {
   "cell_type": "code",
   "execution_count": 4,
   "metadata": {},
   "outputs": [
    {
     "name": "stdout",
     "output_type": "stream",
     "text": [
      "Inorder traversal of a bst\n",
      "98\n",
      "55\n",
      "24\n",
      "22\n",
      "15\n",
      "14\n",
      "10\n",
      "5\n"
     ]
    }
   ],
   "source": [
    "class bt:\n",
    "    def __init__(self, data):\n",
    "        self.data= data\n",
    "        self.lc = None\n",
    "        self.rc = None\n",
    "def insert(root, newvalue):\n",
    "    if root is None:\n",
    "        root = bt(newvalue)\n",
    "        return root\n",
    "    if newvalue>root.data:\n",
    "        root.lc=insert(root.lc, newvalue)\n",
    "    else:\n",
    "        root.rc=insert(root.rc, newvalue)\n",
    "    return root\n",
    "def inorder(root):\n",
    "    if root == None:\n",
    "        return\n",
    "    inorder(root.lc)\n",
    "    print(root.data)\n",
    "    inorder(root.rc)\n",
    "root = insert(None, 15)\n",
    "insert(root, 10)\n",
    "insert(root, 24)\n",
    "insert(root, 5)\n",
    "insert(root, 14)\n",
    "insert(root, 22)\n",
    "insert(root, 55)\n",
    "insert(root, 98)\n",
    "print(\"Inorder traversal of a bst\")\n",
    "inorder(root)"
   ]
  },
  {
   "cell_type": "code",
   "execution_count": null,
   "metadata": {},
   "outputs": [],
   "source": []
  },
  {
   "cell_type": "markdown",
   "metadata": {},
   "source": [
    "# 09-01-2023"
   ]
  },
  {
   "cell_type": "code",
   "execution_count": 14,
   "metadata": {},
   "outputs": [
    {
     "name": "stdout",
     "output_type": "stream",
     "text": [
      "8\n",
      "10 98 3 33 12 22 21 11\n",
      "[10, 98, 12, 22, 3, 33, 21, 11]\n"
     ]
    }
   ],
   "source": [
    "\"\"\"\n",
    "You are playing an online game. In the game, a list of N numbers is given. The player has to arrange the numbers so that all the\n",
    "odd numbers of the list come after the even numbers.\n",
    "Write an algorithm to arrange the given list such that all the odd numbers of the list come after the even numbers.\n",
    "Input\n",
    "The first line of the input consists of an integer num, representing the size of the list(N).\n",
    "The second line of the input consists of N space-separated integers representing the values of the list\n",
    "Output\n",
    "Print N space-separated integers such that all the odd numbers of the list come after the even numbers\n",
    "Example : \n",
    "Sample Input\n",
    "8\n",
    "10 98 3 33 12 22 21 11\n",
    "Sample Output\n",
    "10 98 12 22 3 33 21 11\n",
    "\"\"\"\n",
    "n = int(input())\n",
    "x = input().split(\" \")\n",
    "x = [int(i) for i in x]\n",
    "o=[]\n",
    "e=[]\n",
    "a=[]\n",
    "for i in x:\n",
    "    if (i%2==0):\n",
    "        e.append(i)\n",
    "    else:\n",
    "        o.append(i)\n",
    "a=e+o\n",
    "print(a)"
   ]
  },
  {
   "cell_type": "code",
   "execution_count": 16,
   "metadata": {},
   "outputs": [
    {
     "name": "stdout",
     "output_type": "stream",
     "text": [
      "{'NAME': 'ABC', 'AGE': '100', 'BRANCH': 'AER0NAUTICAL'}\n"
     ]
    }
   ],
   "source": [
    "\"\"\"\n",
    "WRITE A PROGRAM TO COMBINE LIST TO A DICTIONARY TO FORM A HASH TABLE\n",
    "INPUT : KEYS = ['NAME', 'AGE', 'BRANCH']\n",
    "        VALUES = ['ABC', '100', 'AER0NAUTICAL']\n",
    "\"\"\"\n",
    "keys = ['NAME', 'AGE', 'BRANCH']\n",
    "values = ['ABC', '100', 'AER0NAUTICAL']\n",
    "dict = {keys[i]:values[i] for i in range(len(keys))}\n",
    "print(dict)"
   ]
  },
  {
   "cell_type": "code",
   "execution_count": 34,
   "metadata": {},
   "outputs": [
    {
     "ename": "NameError",
     "evalue": "name 'xyz' is not defined",
     "output_type": "error",
     "traceback": [
      "\u001b[1;31m---------------------------------------------------------------------------\u001b[0m",
      "\u001b[1;31mNameError\u001b[0m                                 Traceback (most recent call last)",
      "\u001b[1;32m<ipython-input-34-706e9e490b52>\u001b[0m in \u001b[0;36m<module>\u001b[1;34m\u001b[0m\n\u001b[0;32m      5\u001b[0m \u001b[1;31m#print(Dict)\u001b[0m\u001b[1;33m\u001b[0m\u001b[1;33m\u001b[0m\u001b[1;33m\u001b[0m\u001b[0m\n\u001b[0;32m      6\u001b[0m \u001b[0moutsource\u001b[0m \u001b[1;33m=\u001b[0m \u001b[0mzip\u001b[0m\u001b[1;33m(\u001b[0m\u001b[0mkeys\u001b[0m\u001b[1;33m,\u001b[0m \u001b[0mvalues\u001b[0m\u001b[1;33m)\u001b[0m\u001b[1;33m\u001b[0m\u001b[1;33m\u001b[0m\u001b[0m\n\u001b[1;32m----> 7\u001b[1;33m \u001b[0mabc\u001b[0m \u001b[1;33m=\u001b[0m \u001b[0mxyz\u001b[0m\u001b[1;33m(\u001b[0m\u001b[0moutsource\u001b[0m\u001b[1;33m)\u001b[0m\u001b[1;33m\u001b[0m\u001b[1;33m\u001b[0m\u001b[0m\n\u001b[0m\u001b[0;32m      8\u001b[0m \u001b[0mprint\u001b[0m\u001b[1;33m(\u001b[0m\u001b[0mabc\u001b[0m\u001b[1;33m)\u001b[0m\u001b[1;33m\u001b[0m\u001b[1;33m\u001b[0m\u001b[0m\n",
      "\u001b[1;31mNameError\u001b[0m: name 'xyz' is not defined"
     ]
    }
   ],
   "source": [
    "keys=['name','age','branch']\n",
    "values=[\"abc\",'100',\"aeronautical\"]\n",
    "#details=zip(keys,values)\n",
    "#Dict=dict(details)\n",
    "#print(Dict)\n",
    "outsource = zip(keys, values)\n",
    "abc = xyz(outsource)\n",
    "print(abc)"
   ]
  },
  {
   "cell_type": "code",
   "execution_count": 21,
   "metadata": {},
   "outputs": [
    {
     "name": "stdout",
     "output_type": "stream",
     "text": [
      "Position of non-zero elements in the matrix:\n",
      "{(0, 3): 1, (1, 0): 2, (1, 4): 3, (2, 3): 4}\n"
     ]
    }
   ],
   "source": [
    "\"\"\"\n",
    "WRITE A PROGRAM TO STORE A SPARSE MATRIX INTO A DICTIONARY\n",
    "EXAMPLE : [[0,0,0,1,0]\n",
    "           [2,0,0,0,3]\n",
    "           [0,0,0,4,0]]\n",
    "\"\"\"\n",
    "# creating sparse matrix\n",
    "arr = [[0, 0, 0, 1, 0],\n",
    "       [2, 0, 0, 0, 3],\n",
    "       [0, 0, 0, 4, 0]]\n",
    "\n",
    "# creating empty dictionary\n",
    "dic = {}\n",
    "\n",
    "# iterating through the matrix\n",
    "for i in range(len(arr)):\n",
    "    for j in range(len(arr[i])):\n",
    "        if arr[i][j] != 0:\n",
    "\n",
    "            # adding non zero elements to\n",
    "            # the dictionary\n",
    "            dic[i, j] = arr[i][j]\n",
    "\n",
    "print(\"Position of non-zero elements in the matrix:\")\n",
    "print(dic)"
   ]
  },
  {
   "cell_type": "code",
   "execution_count": 25,
   "metadata": {},
   "outputs": [
    {
     "name": "stdout",
     "output_type": "stream",
     "text": [
      "First non-repeating character is V\n"
     ]
    }
   ],
   "source": [
    "\"\"\"\n",
    "WRITE A NON REPEATED CHARACTER IN A STRING\n",
    "EXAMPLE : I/P 1 LEVEL\n",
    "          O/P 1 V\n",
    "\"\"\"\n",
    "# Python program to print the first non-repeating character\n",
    "string = \"LEVEL\"\n",
    "index = 0\n",
    "fnc = \"\"\n",
    "for i in string:\n",
    "    if string.count(i) == 1:\n",
    "        fnc += i\n",
    "        break\n",
    "    else:\n",
    "        index += 1\n",
    "if index == 1:\n",
    "    print(\"Either all characters are repeating or string is empty\")\n",
    "else:\n",
    "    print(\"First non-repeating character is\", fnc)"
   ]
  },
  {
   "cell_type": "code",
   "execution_count": 26,
   "metadata": {},
   "outputs": [
    {
     "name": "stdout",
     "output_type": "stream",
     "text": [
      "The Non-Repeated char is  v\n"
     ]
    }
   ],
   "source": [
    "str = 'level'\n",
    "for i in str:\n",
    "    count = 0\n",
    "    for j in str:\n",
    "        if i==j:\n",
    "            count+=1\n",
    "        if count>1:\n",
    "            break\n",
    "    if count==1:\n",
    "        print(\"The Non-Repeated char is \", i)"
   ]
  },
  {
   "cell_type": "code",
   "execution_count": 35,
   "metadata": {},
   "outputs": [
    {
     "name": "stdout",
     "output_type": "stream",
     "text": [
      "level\n",
      "v "
     ]
    }
   ],
   "source": [
    "String=input()\n",
    "for i in String:\n",
    "    count = 0\n",
    "    for j in String:\n",
    "        if i == j:\n",
    "            count+=1\n",
    "        if count > 1:\n",
    "            break\n",
    "    if count == 1:\n",
    "        print(i,end = \" \")"
   ]
  },
  {
   "cell_type": "code",
   "execution_count": 1,
   "metadata": {},
   "outputs": [],
   "source": [
    "# WRITE A PROGRAM TO INSERT DELETE A NODE IN A SINGLE LINKED LIST\n",
    "# 1 3 5 8\n"
   ]
  },
  {
   "cell_type": "code",
   "execution_count": null,
   "metadata": {},
   "outputs": [],
   "source": []
  },
  {
   "cell_type": "markdown",
   "metadata": {},
   "source": [
    "# 23-01-2023"
   ]
  },
  {
   "cell_type": "code",
   "execution_count": 3,
   "metadata": {},
   "outputs": [
    {
     "name": "stdout",
     "output_type": "stream",
     "text": [
      "3\n",
      "4\n",
      "5\n",
      "5 is the Largest number\n"
     ]
    }
   ],
   "source": [
    "# Find Greatest of three numbers\n",
    "a = int(input())\n",
    "b = int(input())\n",
    "c = int(input())\n",
    "if a>b and a>c:\n",
    "    print(a,\"is the Largest number\")\n",
    "elif b>a and b>c:\n",
    "    print(b,\"is the Largest number\")\n",
    "else:\n",
    "    print(c,\"is the Largest number\")"
   ]
  },
  {
   "cell_type": "code",
   "execution_count": 22,
   "metadata": {},
   "outputs": [
    {
     "name": "stdout",
     "output_type": "stream",
     "text": [
      "5\n",
      "\n",
      "\n",
      "\n",
      "\n",
      "1  \n",
      "\n",
      "1  2  \n",
      "\n",
      "1  2  3  \n",
      "\n",
      "1  2  3  4  \n",
      "\n",
      "1  2  3  4  5  "
     ]
    }
   ],
   "source": [
    "rows = int(input())\n",
    "for i in range(rows+1):\n",
    "    print(\"\\n\")\n",
    "    for j in range(1,i+1):\n",
    "        print(j,end=\"  \")"
   ]
  },
  {
   "cell_type": "code",
   "execution_count": 24,
   "metadata": {},
   "outputs": [
    {
     "name": "stdout",
     "output_type": "stream",
     "text": [
      "5\n",
      "\n",
      "\n",
      "\n",
      "\n",
      "*  \n",
      "\n",
      "*  *  \n",
      "\n",
      "*  *  *  \n",
      "\n",
      "*  *  *  *  \n",
      "\n",
      "*  *  *  *  *  "
     ]
    }
   ],
   "source": [
    "rows = int(input())\n",
    "for i in range(rows+1):\n",
    "    print(\"\\n\")\n",
    "    for j in range(1,i+1):\n",
    "        print(\"*\",end=\"  \")"
   ]
  },
  {
   "cell_type": "code",
   "execution_count": 1,
   "metadata": {},
   "outputs": [
    {
     "name": "stdout",
     "output_type": "stream",
     "text": [
      "5\n",
      "120\n"
     ]
    }
   ],
   "source": [
    "# 1.Factorial of a number\n",
    "def fact(n):\n",
    "    if (n==1 or n==0):\n",
    "        return 1\n",
    "    else:\n",
    "        return n*fact(n-1)\n",
    "n = int(input())\n",
    "print(fact(n))"
   ]
  },
  {
   "cell_type": "code",
   "execution_count": 2,
   "metadata": {},
   "outputs": [
    {
     "name": "stdout",
     "output_type": "stream",
     "text": [
      "How many terms of series are required? : 5\n",
      "Fibonacci series generated is : \n",
      "0\n",
      "1\n",
      "1\n",
      "2\n",
      "3\n"
     ]
    }
   ],
   "source": [
    "# 2.Program to find the fibonacci series using recursion function\n",
    "def fibonacci(n):\n",
    "    if n<2:\n",
    "        return n\n",
    "    return (fibonacci(n-1)+fibonacci(n-2))\n",
    "n = int(input(\"How many terms of series are required? : \"))\n",
    "print(\"Fibonacci series generated is : \")\n",
    "for i in range(n):\n",
    "    print(fibonacci(i))"
   ]
  },
  {
   "cell_type": "code",
   "execution_count": 11,
   "metadata": {},
   "outputs": [
    {
     "name": "stdout",
     "output_type": "stream",
     "text": [
      "Enter a number : 7\n",
      "prime\n"
     ]
    }
   ],
   "source": [
    "# 3.Check whether the given number is Prime number or not\n",
    "n = int(input(\"Enter a number : \"))\n",
    "if n>1:\n",
    "    for i in range(2,n):\n",
    "        if n%i==0:\n",
    "            print(\"Not prime\")\n",
    "            break\n",
    "    else:\n",
    "        print(\"prime\")"
   ]
  },
  {
   "cell_type": "code",
   "execution_count": 25,
   "metadata": {},
   "outputs": [
    {
     "name": "stdout",
     "output_type": "stream",
     "text": [
      "Enter a number : 15\n",
      "Not Prime\n"
     ]
    }
   ],
   "source": [
    "n = int(input(\"Enter a number : \"))\n",
    "flag=0\n",
    "if n>1:\n",
    "    for i in range(2,n):\n",
    "        if n%i==0:\n",
    "            flag=1\n",
    "            break\n",
    "if flag==1:\n",
    "    print(\"Not Prime\")\n",
    "else:\n",
    "    print(\"Prime\")"
   ]
  },
  {
   "cell_type": "code",
   "execution_count": 18,
   "metadata": {},
   "outputs": [
    {
     "name": "stdout",
     "output_type": "stream",
     "text": [
      "[('ram', '15', '8'), ('laxman', 'sita'), ('krishna', 'akbar', '45'), ('', '')]\n"
     ]
    }
   ],
   "source": [
    "# 4.Write a Python program to remove an empty tuple(s) from a list of tuples.\n",
    "def Remove(tuples):\n",
    "    for i in tuples:\n",
    "        if(len(i) == 0):\n",
    "            tuples.remove(i)\n",
    "    return tuples\n",
    "tuples = [(), ('ram', '15', '8'), (), ('laxman', 'sita'), ('krishna', 'akbar', '45'), ('', ''), ()]\n",
    "print(Remove(tuples))"
   ]
  },
  {
   "cell_type": "code",
   "execution_count": 19,
   "metadata": {},
   "outputs": [
    {
     "name": "stdout",
     "output_type": "stream",
     "text": [
      "[('ram', '15', '8'), ('laxman', 'sita'), ('krishna', 'akbar', '45'), ('', '')]\n"
     ]
    }
   ],
   "source": [
    "def Remove(tuples):\n",
    "    for i in tuples:\n",
    "        if(i==()):\n",
    "            tuples.remove(i)\n",
    "    return tuples\n",
    "tuples = [(), ('ram','15','8'), (), ('laxman', 'sita'), ('krishna', 'akbar', '45'), ('',''),()]\n",
    "print(Remove(tuples))"
   ]
  },
  {
   "cell_type": "code",
   "execution_count": 20,
   "metadata": {},
   "outputs": [
    {
     "name": "stdout",
     "output_type": "stream",
     "text": [
      "[('ram', '15', '8'), ('laxman', 'sita'), ('krishna', 'akbar', '45'), ('', '')]\n"
     ]
    }
   ],
   "source": [
    "def Remove(tuples):\n",
    "    while () in tuples:\n",
    "        tuples.remove(());\n",
    "    return tuples\n",
    "tuples = [(), ('ram','15','8'), (), ('laxman', 'sita'), ('krishna', 'akbar', '45'), ('',''),()]\n",
    "print (Remove(tuples))"
   ]
  },
  {
   "cell_type": "code",
   "execution_count": 9,
   "metadata": {},
   "outputs": [
    {
     "name": "stdout",
     "output_type": "stream",
     "text": [
      "1 2 3 4 5\n",
      "Sum : 15\n",
      "Average : 3.0\n"
     ]
    }
   ],
   "source": [
    "# 5.To calculate the average of the elements in a list\n",
    "l = input().split()\n",
    "l = [int(i) for i in l]\n",
    "sum = 0\n",
    "for i in l:\n",
    "    sum = sum+i\n",
    "avg =sum/len(l)\n",
    "print(\"Sum :\",sum)\n",
    "print(\"Average :\",avg)"
   ]
  },
  {
   "cell_type": "code",
   "execution_count": 12,
   "metadata": {},
   "outputs": [
    {
     "name": "stdout",
     "output_type": "stream",
     "text": [
      "['Green', 'White', 'Black']\n"
     ]
    }
   ],
   "source": [
    "\"\"\"\n",
    "6.Write a Python program to print a specified list after removing the 0th, 4th and 5th elements.\n",
    "  Sample List : ['Red', 'Green', 'White', 'Black', 'Pink', 'Yellow']\n",
    "  Expected Output : ['Green', 'White', 'Black']\n",
    "\"\"\"\n",
    "list = ['Red', 'Green', 'White', 'Black', 'Pink', 'Yellow']\n",
    "n = len(list)\n",
    "list.pop(5)\n",
    "list.pop(4)\n",
    "list.pop(0)\n",
    "print(list)"
   ]
  },
  {
   "cell_type": "code",
   "execution_count": 13,
   "metadata": {},
   "outputs": [
    {
     "name": "stdout",
     "output_type": "stream",
     "text": [
      "['Green', 'White', 'Black']\n"
     ]
    }
   ],
   "source": [
    "color = ['Red', 'Green', 'White', 'Black', 'Pink', 'Yellow']\n",
    "color = [x for (i,x) in enumerate(color) if i not in (0,4,5)]\n",
    "print(color)"
   ]
  },
  {
   "cell_type": "code",
   "execution_count": 37,
   "metadata": {},
   "outputs": [],
   "source": [
    "# 7.Write a Python program to generate all permutations of a list in Python\n"
   ]
  },
  {
   "cell_type": "code",
   "execution_count": 32,
   "metadata": {},
   "outputs": [
    {
     "name": "stdout",
     "output_type": "stream",
     "text": [
      "1 2 3 4\n",
      "24\n"
     ]
    }
   ],
   "source": [
    "# 8.Write a Python program to calculate the product, multiplying all the numbers of a given tuple.\n",
    "t=input().split()\n",
    "t=(int(i) for i in t)\n",
    "product=1\n",
    "for i in t:\n",
    "    product=product*i\n",
    "print(product)"
   ]
  },
  {
   "cell_type": "code",
   "execution_count": 1,
   "metadata": {},
   "outputs": [
    {
     "name": "stdout",
     "output_type": "stream",
     "text": [
      "Duplicate characters in a given string: \n",
      "r\n",
      "e\n",
      "t\n",
      "s\n",
      "i\n"
     ]
    }
   ],
   "source": [
    "# 9.Counting repeated characters in a string\n",
    "string = \"Great responsibility\";  \n",
    "print(\"Duplicate characters in a given string: \");  \n",
    "# Counts each character present in the string  \n",
    "for i in range(0, len(string)):  \n",
    "    count = 1;  \n",
    "    for j in range(i+1, len(string)):  \n",
    "        if(string[i] == string[j] and string[i] != ' '):  \n",
    "            count = count + 1;  \n",
    "            #Set string[j] to 0 to avoid printing visited character  \n",
    "            string = string[:j] + '0' + string[j+1:];  \n",
    "   \n",
    "    #A character is considered as duplicate if count is greater than 1  \n",
    "    if(count > 1 and string[i] != '0'):  \n",
    "        print(string[i]);  "
   ]
  },
  {
   "cell_type": "code",
   "execution_count": null,
   "metadata": {},
   "outputs": [],
   "source": [
    "# 10.Reverse a string if it's length is a multiple of 4\n"
   ]
  },
  {
   "cell_type": "code",
   "execution_count": 2,
   "metadata": {},
   "outputs": [
    {
     "name": "stdout",
     "output_type": "stream",
     "text": [
      "1 2 3 4 5 6 7 8 9 10\n",
      "[2, 4, 6, 8, 10]\n",
      "[1, 3, 5, 7, 9]\n",
      "[]\n"
     ]
    }
   ],
   "source": [
    "# 11.To seperate even, odd and zeroes from a list.\n",
    "List=input().split()\n",
    "l=[int(i) for i in List]\n",
    "e=[]\n",
    "o=[]\n",
    "ze=[]\n",
    "for i in l:\n",
    "    if (i==0):\n",
    "        ze.append(i)\n",
    "    elif(i%2==0):\n",
    "        e.append(i)\n",
    "    else:\n",
    "        o.append(i)\n",
    "print(e)\n",
    "print(o)\n",
    "print(ze)"
   ]
  },
  {
   "cell_type": "code",
   "execution_count": null,
   "metadata": {},
   "outputs": [],
   "source": [
    "# 12.Split a given dictionary of lists into list of dictionaries.\n"
   ]
  },
  {
   "cell_type": "markdown",
   "metadata": {},
   "source": [
    "# 30-01-2023"
   ]
  },
  {
   "cell_type": "code",
   "execution_count": 1,
   "metadata": {},
   "outputs": [
    {
     "name": "stdout",
     "output_type": "stream",
     "text": [
      "Teja Harshini\n",
      "100\n"
     ]
    }
   ],
   "source": [
    "class Student:\n",
    "    name = \"Teja Harshini\"\n",
    "    __rollnumber = 100\n",
    "    def get_rollnumber(self):\n",
    "        return self.__rollnumber\n",
    "    def set_rollnumber(self, new_value):\n",
    "        self.__rollnumber = new_value\n",
    "        \n",
    "obj = Student()\n",
    "print(obj.name)\n",
    "print(obj.get_rollnumber())"
   ]
  },
  {
   "cell_type": "code",
   "execution_count": 4,
   "metadata": {},
   "outputs": [
    {
     "name": "stdout",
     "output_type": "stream",
     "text": [
      "In Class B\n",
      "None\n"
     ]
    }
   ],
   "source": [
    "class A:\n",
    "    def method_1(self):\n",
    "        print(\"In Class A\")\n",
    "class B:\n",
    "    def method_1(self):\n",
    "        print(\"In Class B\")\n",
    "class child(B,A):\n",
    "    pass\n",
    "ob = child()\n",
    "print(ob.method_1())"
   ]
  },
  {
   "cell_type": "code",
   "execution_count": 5,
   "metadata": {},
   "outputs": [
    {
     "name": "stdout",
     "output_type": "stream",
     "text": [
      "In Class A\n",
      "None\n"
     ]
    }
   ],
   "source": [
    "class A:\n",
    "    def method_1(self):\n",
    "        print(\"In Class A\")\n",
    "class B:\n",
    "    def method_1(self):\n",
    "        print(\"In Class B\")\n",
    "class child(A,B):\n",
    "    pass\n",
    "ob = child()\n",
    "print(ob.method_1())"
   ]
  },
  {
   "cell_type": "code",
   "execution_count": 8,
   "metadata": {},
   "outputs": [
    {
     "name": "stdout",
     "output_type": "stream",
     "text": [
      "2\n",
      " teja\n",
      " 1234\n",
      " harshini\n",
      " 5678\n",
      "[{'teja': '1234'}, {'harshini': '5678'}]\n"
     ]
    }
   ],
   "source": [
    "n = int(input())\n",
    "arr=[]\n",
    "for i in range(n):\n",
    "    username=input(\" \")\n",
    "    password=input(\" \")\n",
    "    arr.append({username:password})\n",
    "print(arr)"
   ]
  },
  {
   "cell_type": "code",
   "execution_count": 10,
   "metadata": {},
   "outputs": [
    {
     "name": "stdout",
     "output_type": "stream",
     "text": [
      "2\n",
      " teja\n",
      " 1234\n",
      " harshini\n",
      " 5678\n",
      "[{'teja': '1234'}, {'harshini': '5678'}]\n",
      "Anishetty\n",
      "9\n",
      "User Not Found\n"
     ]
    }
   ],
   "source": [
    "dict={}\n",
    "n = int(input())\n",
    "arr=[]\n",
    "for i in range(n):\n",
    "    username=input(\" \")\n",
    "    password=input(\" \")\n",
    "    arr.append({username:password})\n",
    "print(arr)\n",
    "val=input()\n",
    "pa=input()\n",
    "found = False\n",
    "for obj in arr:\n",
    "    try:\n",
    "        password=obj[val]\n",
    "        found=True\n",
    "        if pa==password:\n",
    "            print(\"Valid\")\n",
    "        else:\n",
    "            print(\"Invalid\")\n",
    "    except:\n",
    "        pass\n",
    "if found==False:\n",
    "    print(\"User Not Found\")"
   ]
  },
  {
   "cell_type": "code",
   "execution_count": 11,
   "metadata": {},
   "outputs": [
    {
     "name": "stdout",
     "output_type": "stream",
     "text": [
      "[1, 2, 3, 4]\n",
      "[2, 3, 4]\n",
      "[2, 3, 4, 5]\n"
     ]
    }
   ],
   "source": [
    "stack=[]\n",
    "stack.append(1)\n",
    "stack.append(2)\n",
    "stack.append(3)\n",
    "stack.append(4)\n",
    "print(stack)\n",
    "stack.pop(0)\n",
    "print(stack)\n",
    "stack.append(5)\n",
    "print(stack)"
   ]
  },
  {
   "cell_type": "code",
   "execution_count": 1,
   "metadata": {},
   "outputs": [
    {
     "name": "stdout",
     "output_type": "stream",
     "text": [
      "64\n"
     ]
    },
    {
     "data": {
      "text/plain": [
       "'paper'"
      ]
     },
     "execution_count": 1,
     "metadata": {},
     "output_type": "execute_result"
    }
   ],
   "source": [
    "import random\n",
    "print(random.randint(1,100))\n",
    "arr=[\"rock\", \"paper\", \"scissors\"]\n",
    "arr[1]"
   ]
  },
  {
   "cell_type": "code",
   "execution_count": 6,
   "metadata": {},
   "outputs": [
    {
     "name": "stdout",
     "output_type": "stream",
     "text": [
      "Enter your choice:rock\n",
      "Computer choice Paper\n",
      "Computer won\n"
     ]
    }
   ],
   "source": [
    "import random\n",
    "n=input(\"Enter your choice:\")\n",
    "l=[\"Rock\",\"Paper\",\"Scissors\"]\n",
    "s=random.choice(l)\n",
    "print(\"Computer choice\",s)\n",
    "if n==\"Rock\" or n==\"rock\":\n",
    "    if s==\"Scissors\" or s==\"scissors\":\n",
    "        print(\"Player won\")\n",
    "    elif s==\"Rock\" or s==\"rock\":\n",
    "        print(\"DRAW\")\n",
    "    else:\n",
    "        print(\"Computer won\")\n",
    "elif n==\"Scissors\" or n==\"scissors\":\n",
    "    if s==\"Paper\" or s==\"paper\":\n",
    "        print(\"Player won\")\n",
    "    elif s==\"Scissors\" or s==\"scissors\":\n",
    "        print(\"DRAW\")\n",
    "    else:\n",
    "        print(\"Computer won\")\n",
    "elif n==\"Paper\" or n==\"paper\":\n",
    "    if s==\"Rock\" or s==\"rock\":\n",
    "        print(\"Player won\")\n",
    "    elif s==\"Paper\" or s==\"paper\":\n",
    "        print(\"DRAW\")\n",
    "    else:\n",
    "        print(\"Computer won\")\n",
    "else:\n",
    "    print(\"INVALID INPUT\")"
   ]
  },
  {
   "cell_type": "code",
   "execution_count": 8,
   "metadata": {
    "scrolled": true
   },
   "outputs": [
    {
     "name": "stdout",
     "output_type": "stream",
     "text": [
      "*****************ROCK PAPER SCISSORS*****************\n",
      "\n",
      "\n",
      "ROUND  1\n",
      "\n",
      "Enter your choice:rock\n",
      "Computer choice Paper\n",
      "Computer won\n",
      "ROUND  2\n",
      "\n",
      "Enter your choice:rock\n",
      "Computer choice Scissors\n",
      "Player won\n",
      "ROUND  3\n",
      "\n",
      "Enter your choice:rock\n",
      "Computer choice Scissors\n",
      "Player won\n",
      "ROUND  4\n",
      "\n",
      "Enter your choice:rock\n",
      "Computer choice Paper\n",
      "Computer won\n",
      "ROUND  5\n",
      "\n",
      "Enter your choice:rock\n",
      "Computer choice Rock\n",
      "DRAW\n",
      "\n",
      "\n",
      "\n",
      "Computer won the match\n"
     ]
    }
   ],
   "source": [
    "import random\n",
    "print(\"*****************ROCK PAPER SCISSORS*****************\\n\\n\")\n",
    "i=0\n",
    "j=0\n",
    "no=0\n",
    "while(no!=5):\n",
    "    print(\"ROUND \",no+1);\n",
    "    print()\n",
    "    n=input(\"Enter your choice:\")\n",
    "    l=[\"Rock\",\"Paper\",\"Scissors\"]\n",
    "    s=random.choice(l)\n",
    "    print(\"Computer choice\",s)\n",
    "    if n==\"Rock\" or n==\"rock\":\n",
    "        if s==\"Scissors\" or s==\"scissors\":\n",
    "            print(\"Player won\")\n",
    "            i+=1\n",
    "        elif s==\"Rock\" or s==\"rock\":\n",
    "            print(\"DRAW\")\n",
    "        else:\n",
    "            print(\"Computer won\")\n",
    "            j+=1\n",
    "    elif n==\"Scissors\" or n==\"scissors\":\n",
    "        if s==\"Paper\" or s==\"paper\":\n",
    "            print(\"Player won\")\n",
    "            i+=1\n",
    "        elif s==\"Scissors\" or s==\"scissors\":\n",
    "            print(\"DRAW\")\n",
    "        else:\n",
    "            print(\"Computer won\")\n",
    "            j+=1\n",
    "    elif n==\"Paper\" or n==\"paper\":\n",
    "        if s==\"Rock\" or s==\"rock\":\n",
    "            print(\"Player won\")\n",
    "            i+=1\n",
    "        elif s==\"Paper\" or s==\"paper\":\n",
    "            print(\"DRAW\")\n",
    "        else:\n",
    "            print(\"Computer won\")\n",
    "            j+=1\n",
    "    else:\n",
    "        print(\"INVALID INPUT\")\n",
    "    no+=1\n",
    "print(\"\\n\\n\")\n",
    "if(i>j):\n",
    "    print(\"Player won the match\")\n",
    "else:\n",
    "    print(\"Computer won the match\")"
   ]
  },
  {
   "cell_type": "markdown",
   "metadata": {},
   "source": [
    "# 06-02-2023"
   ]
  },
  {
   "cell_type": "code",
   "execution_count": 1,
   "metadata": {},
   "outputs": [
    {
     "name": "stdout",
     "output_type": "stream",
     "text": [
      "<bound method student.study of <__main__.student object at 0x000001EE4B031820>>\n",
      "Student is Studying\n",
      "None\n"
     ]
    }
   ],
   "source": [
    "class student:\n",
    "    name = \"teja\"\n",
    "    roll = 124\n",
    "    def study(self):\n",
    "        print(\"Student is Studying\")\n",
    "ob1=student()\n",
    "print(ob1.study) # address\n",
    "print(ob1.study()) # execute print"
   ]
  },
  {
   "cell_type": "code",
   "execution_count": 24,
   "metadata": {},
   "outputs": [
    {
     "name": "stdout",
     "output_type": "stream",
     "text": [
      "Peek Element is 30\n",
      "Element Removed 30\n",
      "Peek Element is 20\n",
      "Size of stack is 2\n"
     ]
    }
   ],
   "source": [
    "# STACK FOLLOWS LIFO\n",
    "class Stack:\n",
    "    arr=[]\n",
    "    def stack_push(self, new_element):\n",
    "        self.arr.append(new_element)\n",
    "    def stack_pop(self):\n",
    "        print(\"Element Removed\", self.arr.pop())\n",
    "    def stack_peek(self):\n",
    "        print(\"Peek Element is\", self.arr[-1])\n",
    "    def stack_size(self):\n",
    "        print(\"Size of stack is\", len(self.arr))\n",
    "ob = Stack()\n",
    "ob.stack_push(10)\n",
    "ob.stack_push(20)\n",
    "ob.stack_push(30)\n",
    "ob.stack_peek()\n",
    "ob.stack_pop()\n",
    "ob.stack_peek()\n",
    "ob.stack_size()\n",
    "#print(ob.stack_push)"
   ]
  },
  {
   "cell_type": "code",
   "execution_count": 49,
   "metadata": {},
   "outputs": [
    {
     "name": "stdout",
     "output_type": "stream",
     "text": [
      "[2, 5, 8]\n",
      "[2, 5, 8, 6]\n",
      "6\n",
      "4\n"
     ]
    }
   ],
   "source": [
    "\"\"\"\n",
    "# STACK FOLLOWS LIFO\n",
    "class stack1:\n",
    "    li=[]\n",
    "    def pop(li):\n",
    "        li.pop()\n",
    "        print(li)\n",
    "    def push(li,n):\n",
    "        li.append(n)\n",
    "        print(li)\n",
    "    def peek(li):\n",
    "        print(li[-1])\n",
    "    def size(li):\n",
    "        print(len(li))\n",
    "li=[2,5,8,9]\n",
    "ob=stack1\n",
    "ob.pop(li)\n",
    "n=6\n",
    "ob.push(li,n)\n",
    "ob.peek(li)\n",
    "ob.size(li) \"\"\""
   ]
  },
  {
   "cell_type": "code",
   "execution_count": 26,
   "metadata": {},
   "outputs": [
    {
     "name": "stdout",
     "output_type": "stream",
     "text": [
      "[]\n",
      "[44, 33, 20, 10]\n",
      "10\n",
      "20\n",
      "33\n",
      "44\n",
      "[]\n",
      "[]\n"
     ]
    }
   ],
   "source": [
    "s1 = [10,20,33,44]\n",
    "s2=[]\n",
    "for i in range(len(s1)):\n",
    "    ele = s1.pop()\n",
    "    s2.append(ele)\n",
    "    \n",
    "print(s1)\n",
    "print(s2)\n",
    "for i in range(len(s2)):\n",
    "    print(s2.pop())\n",
    "print(s1)\n",
    "print(s2)"
   ]
  },
  {
   "cell_type": "code",
   "execution_count": 50,
   "metadata": {},
   "outputs": [
    {
     "name": "stdout",
     "output_type": "stream",
     "text": [
      "enter element2\n",
      "enter element3\n",
      "enter element4\n",
      "enter element5\n",
      "enter element6\n",
      "enter element7\n",
      "7\n",
      "6\n",
      "5\n",
      "4\n",
      "3\n",
      "2\n"
     ]
    }
   ],
   "source": [
    "\"\"\"\n",
    "class stack:\n",
    "    li1=[]\n",
    "    \n",
    "    def push(self):\n",
    "        ele=int(input(\"enter element\"))\n",
    "        self.li1.append(ele)\n",
    "    def sp(self):\n",
    "        print(self.li1[-1])\n",
    "        self.li1.pop()\n",
    "ob=stack()\n",
    "for i in range(6):\n",
    "    ob.push()\n",
    "for i in range(6):\n",
    "    ob.sp() \"\"\""
   ]
  },
  {
   "cell_type": "code",
   "execution_count": 38,
   "metadata": {},
   "outputs": [
    {
     "name": "stdout",
     "output_type": "stream",
     "text": [
      "Peek Element is 30\n",
      "Element Removed 10\n",
      "Peek Element is 30\n",
      "Size of queue is 2\n"
     ]
    }
   ],
   "source": [
    "# QUEUE FOLLOWS FIFO\n",
    "class Queue:\n",
    "    arr1=[]\n",
    "    def enqueue(self, ele):\n",
    "        self.arr1.append(ele)\n",
    "    def dequeue(self):\n",
    "        print(\"Element Removed\", self.arr1.pop(0))\n",
    "    def peek(self):\n",
    "        print(\"Peek Element is\", self.arr1[-1])\n",
    "    def size(self):\n",
    "        print(\"Size of queue is\", len(self.arr1))\n",
    "ob = Queue()\n",
    "ob.enqueue(10)\n",
    "ob.enqueue(20)\n",
    "ob.enqueue(30)\n",
    "ob.peek()\n",
    "ob.dequeue()\n",
    "ob.peek()\n",
    "ob.size()\n",
    "#print(ob.enqueue)"
   ]
  },
  {
   "cell_type": "code",
   "execution_count": 51,
   "metadata": {},
   "outputs": [
    {
     "name": "stdout",
     "output_type": "stream",
     "text": [
      "enter element2\n",
      "enter element3\n",
      "enter element4\n",
      "2\n",
      "3\n",
      "4\n"
     ]
    }
   ],
   "source": [
    "\"\"\"\n",
    "# QUEUE FOLLOWS FIFO\n",
    "class queue:\n",
    "    q=[]\n",
    "    def enqueue(self):\n",
    "        ele=int(input(\"enter element\"))\n",
    "        self.q.append(ele)\n",
    "    def dequeue(self):\n",
    "        for i in range(len(self.q)):\n",
    "            print(self.q[0])\n",
    "            self.q.pop(0)\n",
    "ob1=queue()\n",
    "for i in range(3):\n",
    "    ob1.enqueue()\n",
    "ob1.dequeue() \"\"\""
   ]
  },
  {
   "cell_type": "code",
   "execution_count": null,
   "metadata": {},
   "outputs": [],
   "source": [
    "# Implement a queue using stacks\n",
    "class Queue:\n",
    "    s1=[]\n",
    "    s2=[]\n",
    "    def enqueue(self, element):\n",
    "        self.s1.append(element)\n",
    "    def dequeue(self):\n",
    "        for i in range(len(self.s1)):\n",
    "            self.s2.append(self.s1.pop())\n",
    "        self.s2.pop()\n",
    "        for i in range(len(self.s2)):\n",
    "            self.s1.append(self.s2.pop())\n",
    "    def print_queue(self):\n",
    "        "
   ]
  },
  {
   "cell_type": "code",
   "execution_count": 52,
   "metadata": {},
   "outputs": [
    {
     "name": "stdout",
     "output_type": "stream",
     "text": [
      "enter:2\n",
      "enter:3\n",
      "enter:4\n",
      "enter:5\n",
      "enter:6\n",
      "enter:7\n",
      "stack\n",
      "7\n",
      "6\n",
      "5\n",
      "4\n",
      "3\n",
      "2\n",
      "queue\n",
      "2\n",
      "3\n",
      "4\n",
      "5\n",
      "6\n",
      "7\n"
     ]
    }
   ],
   "source": [
    "\"\"\"\n",
    "## implementing queue using stack##\n",
    "class qus:\n",
    "    st1=[]\n",
    "    qu1=[]\n",
    "    def enqueue(self):\n",
    "        ele=int(input(\"enter:\"))\n",
    "        self.st1.append(ele)\n",
    "        self.qu1.append(ele)\n",
    "        \n",
    "    def dequeue(self):\n",
    "        print(\"stack\")\n",
    "        for i in range(len(self.st1)):\n",
    "            print(self.st1[-1])\n",
    "            self.st1.pop(-1)\n",
    "        print(\"queue\")\n",
    "        for i in range(len(self.qu1)):\n",
    "            print(self.qu1[0])\n",
    "            self.qu1.pop(0)\n",
    "obj2=qus()\n",
    "for i in range(6):\n",
    "    obj2.enqueue()\n",
    "obj2.dequeue()  \"\"\""
   ]
  },
  {
   "cell_type": "code",
   "execution_count": 44,
   "metadata": {},
   "outputs": [
    {
     "name": "stdout",
     "output_type": "stream",
     "text": [
      "UnBalanced\n"
     ]
    }
   ],
   "source": [
    "s=\"(()())(((())\"\n",
    "open = 0\n",
    "close = 0\n",
    "for i in s:\n",
    "    if i == \"(\":\n",
    "        open+=1\n",
    "    elif i == \")\":\n",
    "        close += 1\n",
    "if open==close:\n",
    "    print(\"Balanced\")\n",
    "else:\n",
    "    print(\"UnBalanced\")"
   ]
  },
  {
   "cell_type": "code",
   "execution_count": 47,
   "metadata": {},
   "outputs": [
    {
     "name": "stdout",
     "output_type": "stream",
     "text": [
      "[]\n"
     ]
    }
   ],
   "source": [
    "s1=\"(()())\"\n",
    "stack=[]\n",
    "for i in s1:\n",
    "    if i == \"(\":\n",
    "        stack.append(i)\n",
    "    else:\n",
    "        if len(stack) == 0:\n",
    "            print(\"Unbalanced\")\n",
    "            break\n",
    "        else:\n",
    "            stack.pop()\n",
    "print(stack)\n",
    "# if balanced it prints empty list or it prints unbalanced"
   ]
  },
  {
   "cell_type": "code",
   "execution_count": 1,
   "metadata": {},
   "outputs": [],
   "source": [
    "# Linked List\n",
    "class node:\n",
    "    data = None\n",
    "    address = None\n",
    "    def __init__(self,value):\n",
    "        self.data = value"
   ]
  },
  {
   "cell_type": "code",
   "execution_count": null,
   "metadata": {},
   "outputs": [],
   "source": [
    "class node:\n",
    "    data = None"
   ]
  },
  {
   "cell_type": "markdown",
   "metadata": {},
   "source": [
    "# 27-02-2023"
   ]
  },
  {
   "cell_type": "code",
   "execution_count": null,
   "metadata": {},
   "outputs": [],
   "source": []
  },
  {
   "cell_type": "markdown",
   "metadata": {},
   "source": [
    "# 06-03-2023"
   ]
  },
  {
   "cell_type": "code",
   "execution_count": 5,
   "metadata": {},
   "outputs": [
    {
     "name": "stdout",
     "output_type": "stream",
     "text": [
      "player 1 choice(X or o):x\n",
      "player 1:X,player 2:O\n",
      " |  | \n",
      "--------------\n",
      " |  | \n",
      "--------------\n",
      " |  | \n",
      "enter the coordinates:01\n",
      " | X | \n",
      "--------------\n",
      " |  | \n",
      "--------------\n",
      " |  | \n",
      "enter the coordinates:10\n",
      " | X | \n",
      "--------------\n",
      "O |  | \n",
      "--------------\n",
      " |  | \n",
      "enter the coordinates:11\n",
      " | X | \n",
      "--------------\n",
      "O | X | \n",
      "--------------\n",
      " |  | \n",
      "enter the coordinates:21\n",
      " | X | \n",
      "--------------\n",
      "O | X | \n",
      "--------------\n",
      " | O | \n",
      "enter the coordinates:00\n",
      "X | X | \n",
      "--------------\n",
      "O | X | \n",
      "--------------\n",
      " | O | \n",
      "enter the coordinates:02\n",
      "X | X | O\n",
      "--------------\n",
      "O | X | \n",
      "--------------\n",
      " | O | \n",
      "enter the coordinates:22\n",
      "player 1 wins\n"
     ]
    }
   ],
   "source": [
    "board=[['','',''],['','',''],['','','']]\n",
    "def print_board(board):\n",
    "    print(*board[0],sep=\" | \")\n",
    "    print(\"--------------\")\n",
    "    print(*board[1],sep=\" | \")\n",
    "    print(\"--------------\")\n",
    "    print(*board[2],sep=\" | \")\n",
    "def get_markers():\n",
    "    marker1=input(\"player 1 choice(X or o):\").upper()\n",
    "    marker=\"\"\n",
    "    if marker1==\"X\":\n",
    "        marker2=\"O\"\n",
    "        return [\"X\",\"O\"]\n",
    "    elif marker1==\"O\":\n",
    "        marker2=\"X\"\n",
    "        return [\"O\",\"X\"]\n",
    "    else:\n",
    "        print(\"Invalid input\")\n",
    "        return get_markers()\n",
    "def get_coordinates():\n",
    "    x,y=list(map(int,input(\"enter the coordinates:\")))\n",
    "    if x in [0,1,2] and y in [0,1,2]:\n",
    "        return [x,y]\n",
    "    else:\n",
    "        print(\"Invalid input\")\n",
    "        return get_coordinates()\n",
    "def check_for_win(board):\n",
    "    for row in board:\n",
    "        if row[0]==row[1] and row[1]==row[2] and row[1] !=\"\" :\n",
    "            return True\n",
    "    for i in range(len(board)):\n",
    "        if board[0][i]==board[1][i] and board[1][i]==board[2][i] and board[2][i]!=\"\":\n",
    "            return True\n",
    "    if board[0][0]==board[1][1] and board[1][1]==board[2][2] and board[2][2]!=\"\":\n",
    "        return True\n",
    "    if board[0][2]==board[1][1] and board[1][1]==board[2][0] and board[2][0]!=\"\":\n",
    "        return True\n",
    "    return False\n",
    "def update_board(board,chance,marker,x,y):\n",
    "    if chance==True:\n",
    "        board[x][y]=marker\n",
    "        if check_for_win(board):\n",
    "            print(\"player 1 wins\")\n",
    "            return \"DRAW\"\n",
    "        return False\n",
    "    else:\n",
    "        board[x][y]=marker\n",
    "        if check_for_win(board):\n",
    "            print(\"player 2 wins\")\n",
    "            return \"DRAW\"\n",
    "        return True\n",
    "def play_game():\n",
    "    player1=0\n",
    "    player2=0\n",
    "    m1,m2=get_markers()\n",
    "    print(f\"player 1:{m1},player 2:{m2}\")\n",
    "    chance=True\n",
    "    while True:\n",
    "        print_board(board)\n",
    "        x,y=get_coordinates()\n",
    "        if chance:\n",
    "            chance=update_board(board,chance,m1,x,y)\n",
    "            if chance ==\"DRAW\":\n",
    "                break\n",
    "        else:\n",
    "            chance=update_board(board,chance,m2,x,y)\n",
    "            if chance ==\"DRAW\":\n",
    "                break\n",
    "play_game()"
   ]
  },
  {
   "cell_type": "markdown",
   "metadata": {},
   "source": [
    "# 13-03-2023"
   ]
  },
  {
   "cell_type": "code",
   "execution_count": 1,
   "metadata": {},
   "outputs": [
    {
     "name": "stdout",
     "output_type": "stream",
     "text": [
      "2 3 4 8 12 16 16 15 14 10 6 7 8 12 12 11 "
     ]
    }
   ],
   "source": [
    "def spiral(m,n,a):\n",
    "    k=0\n",
    "    l=1          # colum index start\n",
    "    while (k<m and l<n):\n",
    "        for i in range(l,n):\n",
    "            print(a[k][i],end=\" \")\n",
    "        k+=1\n",
    "        for i in range(k,m):\n",
    "            print(a[i][n-1],end=\" \")\n",
    "        if k<m:\n",
    "            for i in range(n-1,(l-1),-1):\n",
    "                print(a[m-1][i],end=\" \")\n",
    "            m-=1\n",
    "        if l<m:\n",
    "            for i in range(m-1,(k-1),-1):\n",
    "                print(a[i][l],end=\" \")\n",
    "            l+=1\n",
    "a=[[1,2,3,4],[5,6,7,8],[9,10,11,12],[13,14,15,16]]\n",
    "r=4\n",
    "c=4\n",
    "spiral(r,c,a)"
   ]
  },
  {
   "cell_type": "code",
   "execution_count": 4,
   "metadata": {},
   "outputs": [
    {
     "name": "stdout",
     "output_type": "stream",
     "text": [
      "enter the dimension : 5\n",
      "\n",
      "1\t2\t3\t4\t5\t\n",
      "16\t17\t18\t19\t6\t\n",
      "15\t24\t25\t20\t7\t\n",
      "14\t23\t22\t21\t8\t\n",
      "13\t12\t11\t10\t9\t\n"
     ]
    }
   ],
   "source": [
    "abc=int(input(\"enter the dimension : \"))\n",
    "xyz=[[0 for i in range(abc)] for j in range(abc)]\n",
    "num=1\n",
    "i=j=m=p=0\n",
    "n=q=abc-1\n",
    "while num<=abc*abc:\n",
    "    for j in range(p,q+1):\n",
    "        xyz[m][j]=num\n",
    "        num=num+1\n",
    "    m=m+1\n",
    "    for i in range(m,n+1):\n",
    "        xyz[i][q]=num\n",
    "        num=num+1\n",
    "    q=q-1\n",
    "    for j in range(q,p-1,-1):\n",
    "        xyz[n][j]=num\n",
    "        num=num+1\n",
    "    n=n-1\n",
    "    for i in range(n,m-1,-1):\n",
    "        xyz[i][p]=num\n",
    "        num=num+1\n",
    "    p=p+1\n",
    "print(\"\")\n",
    "for i in range(0,abc):\n",
    "    for j in range(0,abc):\n",
    "        print(xyz[i][j],end='\\t')\n",
    "    print('')"
   ]
  },
  {
   "cell_type": "code",
   "execution_count": 3,
   "metadata": {},
   "outputs": [
    {
     "name": "stdout",
     "output_type": "stream",
     "text": [
      "Enter the dimension : 5\n",
      "1 2 3 4 5 \n",
      "16 17 18 19 6 \n",
      "15 24 25 20 7 \n",
      "14 23 22 21 8 \n",
      "13 12 11 10 9 \n"
     ]
    }
   ],
   "source": [
    "#back tracking of DP\n",
    "def spiral(size):\n",
    "    r = c = 0\n",
    "    boundary = sizeleft = size-1\n",
    "    flag = 1\n",
    "    move = 'r'\n",
    "    m = [[0 for j in range (size)] for i in range(size)]\n",
    "    for i in range (1, size*size+1):\n",
    "        m[r][c]=i\n",
    "        if move == 'r':\n",
    "            c+=1\n",
    "        elif move == 'l':\n",
    "            c-=1\n",
    "        elif move == 'u':\n",
    "            r-=1\n",
    "        elif move == 'd':\n",
    "            r+=1\n",
    "        if i == boundary :\n",
    "            boundary += sizeleft\n",
    "            if flag!=2:\n",
    "                flag = 2\n",
    "            else:\n",
    "                flag = 1\n",
    "                sizeleft-=1\n",
    "            if move == 'r':\n",
    "                move = 'd'\n",
    "            elif move == 'd':\n",
    "                move = 'l'\n",
    "            elif move == 'l':\n",
    "                move = 'u'\n",
    "            elif move == 'u':\n",
    "                move = 'r'\n",
    "    for r in range(size):\n",
    "        for c in range(size):\n",
    "            n=m[r][c]\n",
    "            print(n, end=' ' if n<10 else ' ')\n",
    "        print()\n",
    "size = int(input(\"Enter the dimension : \"))\n",
    "spiral(size)"
   ]
  },
  {
   "cell_type": "markdown",
   "metadata": {},
   "source": [
    "# 27-03-2023"
   ]
  },
  {
   "cell_type": "code",
   "execution_count": 5,
   "metadata": {},
   "outputs": [
    {
     "name": "stdout",
     "output_type": "stream",
     "text": [
      "vignesha tejaswi  teja harshini\n"
     ]
    }
   ],
   "source": [
    "print(\"vignesha tejaswi\" + \"  teja harshini\")"
   ]
  },
  {
   "cell_type": "code",
   "execution_count": 3,
   "metadata": {},
   "outputs": [
    {
     "name": "stdout",
     "output_type": "stream",
     "text": [
      "minimum cost: 23\n",
      "path: 0 3 2 1 0 "
     ]
    }
   ],
   "source": [
    "#Branch -bound dynamic programming for TSP...\n",
    "import math\n",
    "maxsize = float('inf')\n",
    "\n",
    "def copyToFinal(curr_path):\n",
    "    final_path[:N+1] = curr_path[:]\n",
    "    final_path[N] = curr_path[0]\n",
    "\n",
    "def firstmin(adj , i):\n",
    "    min = maxsize\n",
    "    for k in range(N):\n",
    "        if adj[i][k]<min and i!= k:\n",
    "            min = adj[i][k]\n",
    "    return min\n",
    "\n",
    "def secondmin(adj , i):\n",
    "    first, second = maxsize,maxsize\n",
    "    for j in range(N):\n",
    "        if i == j:\n",
    "            continue\n",
    "        if adj[i][j]<= first:\n",
    "            second = first\n",
    "            first = adj[i][j]\n",
    "\n",
    "        elif adj[i][j] <= second and adj[i][j] != first:\n",
    "            second = adj[i][j]\n",
    "    return second\n",
    "\n",
    "def TSPR(adj,curr_bound,curr_weight,level,curr_path,visited):\n",
    "    global final_res\n",
    "    if level==N:\n",
    "        if adj[curr_path[level-1]][curr_path[0]]!=0:\n",
    "            curr_res=curr_weight+adj[curr_path[level-1]][curr_path[0]]\n",
    "            if curr_res<final_res:\n",
    "                copyToFinal(curr_path)\n",
    "                final_res=curr_res\n",
    "        return \n",
    "    \n",
    "    for i in range(N):\n",
    "        if(adj[curr_path[level-1]][i]!=0 and visited[i]==False):\n",
    "            temp=curr_bound\n",
    "            curr_weight +=adj[curr_path[level-1]][i]\n",
    "            if level==1:\n",
    "                curr_bound-=((firstmin(adj,curr_path[level-1])+firstmin(adj,i))/2)\n",
    "            else:\n",
    "                curr_bound-=((secondmin(adj,curr_path[level-1])+firstmin(adj,i))/2)\n",
    "            if curr_bound+curr_weight<final_res:\n",
    "                curr_path[level] =i\n",
    "                visited[i]=True\n",
    "                TSPR(adj,curr_bound,curr_weight,level+1,curr_path,visited)\n",
    "                curr_weight-=adj[curr_path[level-1]][i]\n",
    "                curr_bound = temp\n",
    "                visited = [False]*len(visited)\n",
    "                for j in range(level):\n",
    "                    if curr_path[j] !=-1:\n",
    "                        visited[curr_path[j]]= True\n",
    "\n",
    "def TSP(adj):\n",
    "    #1/2 (1st min+secmin)\n",
    "    curr_bound=0\n",
    "    curr_path=[-1]*(N+1)\n",
    "    visited=N * [False]\n",
    "    for i in range(N):\n",
    "        curr_bound+=(firstmin(adj,i)+secondmin(adj,i))\n",
    "        curr_bound=math.ceil(curr_bound/2)\n",
    "        curr_path[0]=0\n",
    "        visited[0]=True\n",
    "        TSPR(adj,curr_bound,0,1,curr_path,visited)\n",
    "        \n",
    "adj=[[0,16,11,6],[8,0,13,16],[4,7,0,9],[5,12,2,0]]\n",
    "N=4\n",
    "final_path=[None] * (N+1)\n",
    "visited=[False]*N\n",
    "final_res=maxsize\n",
    "TSP(adj)\n",
    "print(\"minimum cost:\",final_res)\n",
    "print(\"path:\",end=\" \")\n",
    "for i in range(N+1):\n",
    "    print(final_path[i],end=\" \")"
   ]
  },
  {
   "cell_type": "markdown",
   "metadata": {},
   "source": [
    "# 03-04-2023"
   ]
  },
  {
   "cell_type": "code",
   "execution_count": 2,
   "metadata": {},
   "outputs": [
    {
     "name": "stdout",
     "output_type": "stream",
     "text": [
      "[1, 4, 8]\n",
      "[2, 6]\n",
      "[3, 7]\n",
      "[9, 5]\n"
     ]
    }
   ],
   "source": [
    "class Node :\n",
    "    def __init__(self, key, l=None, r= None):\n",
    "        self.key = key\n",
    "        self.l = l\n",
    "        self.r = r\n",
    "        \n",
    "\n",
    "def vot(node , dist, d):\n",
    "    if node is None:\n",
    "        return\n",
    "    d.setdefault(dist, []).append(node.key)\n",
    "    vot(node.l, dist-1, d)\n",
    "    vot(node.r, dist+1, d)\n",
    "    \n",
    "def povt(root):\n",
    "    d = {}\n",
    "    vot(root, 0 ,d)\n",
    "    for value in d.values():\n",
    "        print(value)\n",
    "\n",
    "root = Node(1)\n",
    "root.l = Node(2)\n",
    "root.r = Node(3)\n",
    "root.r.l = Node(4)\n",
    "root.r.r = Node(5)\n",
    "root.r.l.l = Node(6)\n",
    "root.r.l.r = Node(7)    \n",
    "root.r.l.r.l = Node(8)\n",
    "root.r.l.r.r = Node(9)\n",
    "povt(root)"
   ]
  },
  {
   "cell_type": "code",
   "execution_count": null,
   "metadata": {},
   "outputs": [],
   "source": []
  }
 ],
 "metadata": {
  "kernelspec": {
   "display_name": "Python 3",
   "language": "python",
   "name": "python3"
  },
  "language_info": {
   "codemirror_mode": {
    "name": "ipython",
    "version": 3
   },
   "file_extension": ".py",
   "mimetype": "text/x-python",
   "name": "python",
   "nbconvert_exporter": "python",
   "pygments_lexer": "ipython3",
   "version": "3.8.5"
  }
 },
 "nbformat": 4,
 "nbformat_minor": 4
}
