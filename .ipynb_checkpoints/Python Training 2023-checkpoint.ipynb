{
 "cells": [
  {
   "cell_type": "markdown",
   "metadata": {},
   "source": [
    "# 02-01-2023"
   ]
  },
  {
   "cell_type": "code",
   "execution_count": 6,
   "metadata": {},
   "outputs": [
    {
     "name": "stdout",
     "output_type": "stream",
     "text": [
      "6\n",
      "101000\n",
      "1\n"
     ]
    }
   ],
   "source": [
    "\"\"\"\n",
    "A digital machine generates binary data which consists of a string of Os and 1s. A maximum signal M, in the data, consists  of \n",
    "the maximum number of either 1s or 0s appearing consecutively in thedata but M can't be at the beginning or end of the string.\n",
    "Design a way to find the length of the maximum signal,\n",
    "Input\n",
    "The first line of the input consists of an integer N, representing the length of the binary string. The second line consists \n",
    "of a string of length N consisting of Os and 1s only.\n",
    "\"\"\"\n",
    "size=int(input())\n",
    "max=0\n",
    "count=0\n",
    "flag=0\n",
    "str=input()\n",
    "arr=list(str)\n",
    "for i in range(0,size):\n",
    "    if arr[i]=='1':\n",
    "        count=count+1;\n",
    "        flag=1\n",
    "    elif (arr[i]=='0' and flag==1):\n",
    "        count=0\n",
    "        flag=0\n",
    "    if count>max:\n",
    "        max=count\n",
    "print(max)"
   ]
  },
  {
   "cell_type": "code",
   "execution_count": 3,
   "metadata": {},
   "outputs": [
    {
     "name": "stdout",
     "output_type": "stream",
     "text": [
      "200\n",
      "540\n",
      "tw =  130\n",
      "fw =  70\n"
     ]
    }
   ],
   "source": [
    "v=int(input())\n",
    "w=int(input())\n",
    "if w&1==1 or w<2 or w<=v:\n",
    "    print(\"invalid iput\")\n",
    "else:\n",
    "    x=((4*v)-w)//2\n",
    "print(\"tw = \",x)\n",
    "print(\"fw = \",v-x)"
   ]
  },
  {
   "cell_type": "code",
   "execution_count": 4,
   "metadata": {},
   "outputs": [
    {
     "name": "stdout",
     "output_type": "stream",
     "text": [
      "Inorder traversal of a bst\n",
      "98\n",
      "55\n",
      "24\n",
      "22\n",
      "15\n",
      "14\n",
      "10\n",
      "5\n"
     ]
    }
   ],
   "source": [
    "class bt:\n",
    "    def __init__(self, data):\n",
    "        self.data= data\n",
    "        self.lc = None\n",
    "        self.rc = None\n",
    "def insert(root, newvalue):\n",
    "    if root is None:\n",
    "        root = bt(newvalue)\n",
    "        return root\n",
    "    if newvalue>root.data:\n",
    "        root.lc=insert(root.lc, newvalue)\n",
    "    else:\n",
    "        root.rc=insert(root.rc, newvalue)\n",
    "    return root\n",
    "def inorder(root):\n",
    "    if root == None:\n",
    "        return\n",
    "    inorder(root.lc)\n",
    "    print(root.data)\n",
    "    inorder(root.rc)\n",
    "root = insert(None, 15)\n",
    "insert(root, 10)\n",
    "insert(root, 24)\n",
    "insert(root, 5)\n",
    "insert(root, 14)\n",
    "insert(root, 22)\n",
    "insert(root, 55)\n",
    "insert(root, 98)\n",
    "print(\"Inorder traversal of a bst\")\n",
    "inorder(root)"
   ]
  },
  {
   "cell_type": "code",
   "execution_count": null,
   "metadata": {},
   "outputs": [],
   "source": []
  },
  {
   "cell_type": "markdown",
   "metadata": {},
   "source": [
    "# 09-01-2023"
   ]
  },
  {
   "cell_type": "code",
   "execution_count": 14,
   "metadata": {},
   "outputs": [
    {
     "name": "stdout",
     "output_type": "stream",
     "text": [
      "8\n",
      "10 98 3 33 12 22 21 11\n",
      "[10, 98, 12, 22, 3, 33, 21, 11]\n"
     ]
    }
   ],
   "source": [
    "\"\"\"\n",
    "You are playing an online game. In the game, a list of N numbers is given. The player has to arrange the numbers so that all the\n",
    "odd numbers of the list come after the even numbers.\n",
    "Write an algorithm to arrange the given list such that all the odd numbers of the list come after the even numbers.\n",
    "Input\n",
    "The first line of the input consists of an integer num, representing the size of the list(N).\n",
    "The second line of the input consists of N space-separated integers representing the values of the list\n",
    "Output\n",
    "Print N space-separated integers such that all the odd numbers of the list come after the even numbers\n",
    "Example : \n",
    "Sample Input\n",
    "8\n",
    "10 98 3 33 12 22 21 11\n",
    "Sample Output\n",
    "10 98 12 22 3 33 21 11\n",
    "\"\"\"\n",
    "n = int(input())\n",
    "x = input().split(\" \")\n",
    "x = [int(i) for i in x]\n",
    "o=[]\n",
    "e=[]\n",
    "a=[]\n",
    "for i in x:\n",
    "    if (i%2==0):\n",
    "        e.append(i)\n",
    "    else:\n",
    "        o.append(i)\n",
    "a=e+o\n",
    "print(a)"
   ]
  },
  {
   "cell_type": "code",
   "execution_count": 16,
   "metadata": {},
   "outputs": [
    {
     "name": "stdout",
     "output_type": "stream",
     "text": [
      "{'NAME': 'ABC', 'AGE': '100', 'BRANCH': 'AER0NAUTICAL'}\n"
     ]
    }
   ],
   "source": [
    "\"\"\"\n",
    "WRITE A PROGRAM TO COMBINE LIST TO A DICTIONARY TO FORM A HASH TABLE\n",
    "INPUT : KEYS = ['NAME', 'AGE', 'BRANCH']\n",
    "        VALUES = ['ABC', '100', 'AER0NAUTICAL']\n",
    "\"\"\"\n",
    "keys = ['NAME', 'AGE', 'BRANCH']\n",
    "values = ['ABC', '100', 'AER0NAUTICAL']\n",
    "dict = {keys[i]:values[i] for i in range(len(keys))}\n",
    "print(dict)"
   ]
  },
  {
   "cell_type": "code",
   "execution_count": 34,
   "metadata": {},
   "outputs": [
    {
     "ename": "NameError",
     "evalue": "name 'xyz' is not defined",
     "output_type": "error",
     "traceback": [
      "\u001b[1;31m---------------------------------------------------------------------------\u001b[0m",
      "\u001b[1;31mNameError\u001b[0m                                 Traceback (most recent call last)",
      "\u001b[1;32m<ipython-input-34-706e9e490b52>\u001b[0m in \u001b[0;36m<module>\u001b[1;34m\u001b[0m\n\u001b[0;32m      5\u001b[0m \u001b[1;31m#print(Dict)\u001b[0m\u001b[1;33m\u001b[0m\u001b[1;33m\u001b[0m\u001b[1;33m\u001b[0m\u001b[0m\n\u001b[0;32m      6\u001b[0m \u001b[0moutsource\u001b[0m \u001b[1;33m=\u001b[0m \u001b[0mzip\u001b[0m\u001b[1;33m(\u001b[0m\u001b[0mkeys\u001b[0m\u001b[1;33m,\u001b[0m \u001b[0mvalues\u001b[0m\u001b[1;33m)\u001b[0m\u001b[1;33m\u001b[0m\u001b[1;33m\u001b[0m\u001b[0m\n\u001b[1;32m----> 7\u001b[1;33m \u001b[0mabc\u001b[0m \u001b[1;33m=\u001b[0m \u001b[0mxyz\u001b[0m\u001b[1;33m(\u001b[0m\u001b[0moutsource\u001b[0m\u001b[1;33m)\u001b[0m\u001b[1;33m\u001b[0m\u001b[1;33m\u001b[0m\u001b[0m\n\u001b[0m\u001b[0;32m      8\u001b[0m \u001b[0mprint\u001b[0m\u001b[1;33m(\u001b[0m\u001b[0mabc\u001b[0m\u001b[1;33m)\u001b[0m\u001b[1;33m\u001b[0m\u001b[1;33m\u001b[0m\u001b[0m\n",
      "\u001b[1;31mNameError\u001b[0m: name 'xyz' is not defined"
     ]
    }
   ],
   "source": [
    "keys=['name','age','branch']\n",
    "values=[\"abc\",'100',\"aeronautical\"]\n",
    "#details=zip(keys,values)\n",
    "#Dict=dict(details)\n",
    "#print(Dict)\n",
    "outsource = zip(keys, values)\n",
    "abc = xyz(outsource)\n",
    "print(abc)"
   ]
  },
  {
   "cell_type": "code",
   "execution_count": 21,
   "metadata": {},
   "outputs": [
    {
     "name": "stdout",
     "output_type": "stream",
     "text": [
      "Position of non-zero elements in the matrix:\n",
      "{(0, 3): 1, (1, 0): 2, (1, 4): 3, (2, 3): 4}\n"
     ]
    }
   ],
   "source": [
    "\"\"\"\n",
    "WRITE A PROGRAM TO STORE A SPARSE MATRIX INTO A DICTIONARY\n",
    "EXAMPLE : [[0,0,0,1,0]\n",
    "           [2,0,0,0,3]\n",
    "           [0,0,0,4,0]]\n",
    "\"\"\"\n",
    "# creating sparse matrix\n",
    "arr = [[0, 0, 0, 1, 0],\n",
    "       [2, 0, 0, 0, 3],\n",
    "       [0, 0, 0, 4, 0]]\n",
    "\n",
    "# creating empty dictionary\n",
    "dic = {}\n",
    "\n",
    "# iterating through the matrix\n",
    "for i in range(len(arr)):\n",
    "    for j in range(len(arr[i])):\n",
    "        if arr[i][j] != 0:\n",
    "\n",
    "            # adding non zero elements to\n",
    "            # the dictionary\n",
    "            dic[i, j] = arr[i][j]\n",
    "\n",
    "print(\"Position of non-zero elements in the matrix:\")\n",
    "print(dic)"
   ]
  },
  {
   "cell_type": "code",
   "execution_count": 25,
   "metadata": {},
   "outputs": [
    {
     "name": "stdout",
     "output_type": "stream",
     "text": [
      "First non-repeating character is V\n"
     ]
    }
   ],
   "source": [
    "\"\"\"\n",
    "WRITE A NON REPEATED CHARACTER IN A STRING\n",
    "EXAMPLE : I/P 1 LEVEL\n",
    "          O/P 1 V\n",
    "\"\"\"\n",
    "# Python program to print the first non-repeating character\n",
    "string = \"LEVEL\"\n",
    "index = 0\n",
    "fnc = \"\"\n",
    "for i in string:\n",
    "    if string.count(i) == 1:\n",
    "        fnc += i\n",
    "        break\n",
    "    else:\n",
    "        index += 1\n",
    "if index == 1:\n",
    "    print(\"Either all characters are repeating or string is empty\")\n",
    "else:\n",
    "    print(\"First non-repeating character is\", fnc)"
   ]
  },
  {
   "cell_type": "code",
   "execution_count": 26,
   "metadata": {},
   "outputs": [
    {
     "name": "stdout",
     "output_type": "stream",
     "text": [
      "The Non-Repeated char is  v\n"
     ]
    }
   ],
   "source": [
    "str = 'level'\n",
    "for i in str:\n",
    "    count = 0\n",
    "    for j in str:\n",
    "        if i==j:\n",
    "            count+=1\n",
    "        if count>1:\n",
    "            break\n",
    "    if count==1:\n",
    "        print(\"The Non-Repeated char is \", i)"
   ]
  },
  {
   "cell_type": "code",
   "execution_count": 35,
   "metadata": {},
   "outputs": [
    {
     "name": "stdout",
     "output_type": "stream",
     "text": [
      "level\n",
      "v "
     ]
    }
   ],
   "source": [
    "String=input()\n",
    "for i in String:\n",
    "    count = 0\n",
    "    for j in String:\n",
    "        if i == j:\n",
    "            count+=1\n",
    "        if count > 1:\n",
    "            break\n",
    "    if count == 1:\n",
    "        print(i,end = \" \")"
   ]
  },
  {
   "cell_type": "code",
   "execution_count": 1,
   "metadata": {},
   "outputs": [],
   "source": [
    "# WRITE A PROGRAM TO INSERT DELETE A NODE IN A SINGLE LINKED LIST\n",
    "# 1 3 5 8\n"
   ]
  },
  {
   "cell_type": "code",
   "execution_count": null,
   "metadata": {},
   "outputs": [],
   "source": []
  },
  {
   "cell_type": "markdown",
   "metadata": {},
   "source": [
    "# 23-01-2023"
   ]
  },
  {
   "cell_type": "code",
   "execution_count": 3,
   "metadata": {},
   "outputs": [
    {
     "name": "stdout",
     "output_type": "stream",
     "text": [
      "3\n",
      "4\n",
      "5\n",
      "5 is the Largest number\n"
     ]
    }
   ],
   "source": [
    "# Find Greatest of three numbers\n",
    "a = int(input())\n",
    "b = int(input())\n",
    "c = int(input())\n",
    "if a>b and a>c:\n",
    "    print(a,\"is the Largest number\")\n",
    "elif b>a and b>c:\n",
    "    print(b,\"is the Largest number\")\n",
    "else:\n",
    "    print(c,\"is the Largest number\")"
   ]
  },
  {
   "cell_type": "code",
   "execution_count": 22,
   "metadata": {},
   "outputs": [
    {
     "name": "stdout",
     "output_type": "stream",
     "text": [
      "5\n",
      "\n",
      "\n",
      "\n",
      "\n",
      "1  \n",
      "\n",
      "1  2  \n",
      "\n",
      "1  2  3  \n",
      "\n",
      "1  2  3  4  \n",
      "\n",
      "1  2  3  4  5  "
     ]
    }
   ],
   "source": [
    "rows = int(input())\n",
    "for i in range(rows+1):\n",
    "    print(\"\\n\")\n",
    "    for j in range(1,i+1):\n",
    "        print(j,end=\"  \")"
   ]
  },
  {
   "cell_type": "code",
   "execution_count": 24,
   "metadata": {},
   "outputs": [
    {
     "name": "stdout",
     "output_type": "stream",
     "text": [
      "5\n",
      "\n",
      "\n",
      "\n",
      "\n",
      "*  \n",
      "\n",
      "*  *  \n",
      "\n",
      "*  *  *  \n",
      "\n",
      "*  *  *  *  \n",
      "\n",
      "*  *  *  *  *  "
     ]
    }
   ],
   "source": [
    "rows = int(input())\n",
    "for i in range(rows+1):\n",
    "    print(\"\\n\")\n",
    "    for j in range(1,i+1):\n",
    "        print(\"*\",end=\"  \")"
   ]
  },
  {
   "cell_type": "code",
   "execution_count": 1,
   "metadata": {},
   "outputs": [
    {
     "name": "stdout",
     "output_type": "stream",
     "text": [
      "5\n",
      "120\n"
     ]
    }
   ],
   "source": [
    "# 1.Factorial of a number\n",
    "def fact(n):\n",
    "    if (n==1 or n==0):\n",
    "        return 1\n",
    "    else:\n",
    "        return n*fact(n-1)\n",
    "n = int(input())\n",
    "print(fact(n))"
   ]
  },
  {
   "cell_type": "code",
   "execution_count": 2,
   "metadata": {},
   "outputs": [
    {
     "name": "stdout",
     "output_type": "stream",
     "text": [
      "How many terms of series are required? : 5\n",
      "Fibonacci series generated is : \n",
      "0\n",
      "1\n",
      "1\n",
      "2\n",
      "3\n"
     ]
    }
   ],
   "source": [
    "# 2.Program to find the fibonacci series using recursion function\n",
    "def fibonacci(n):\n",
    "    if n<2:\n",
    "        return n\n",
    "    return (fibonacci(n-1)+fibonacci(n-2))\n",
    "n = int(input(\"How many terms of series are required? : \"))\n",
    "print(\"Fibonacci series generated is : \")\n",
    "for i in range(n):\n",
    "    print(fibonacci(i))"
   ]
  },
  {
   "cell_type": "code",
   "execution_count": 11,
   "metadata": {},
   "outputs": [
    {
     "name": "stdout",
     "output_type": "stream",
     "text": [
      "Enter a number : 7\n",
      "prime\n"
     ]
    }
   ],
   "source": [
    "# 3.Check whether the given number is Prime number or not\n",
    "n = int(input(\"Enter a number : \"))\n",
    "if n>1:\n",
    "    for i in range(2,n):\n",
    "        if n%i==0:\n",
    "            print(\"Not prime\")\n",
    "            break\n",
    "    else:\n",
    "        print(\"prime\")"
   ]
  },
  {
   "cell_type": "code",
   "execution_count": 25,
   "metadata": {},
   "outputs": [
    {
     "name": "stdout",
     "output_type": "stream",
     "text": [
      "Enter a number : 15\n",
      "Not Prime\n"
     ]
    }
   ],
   "source": [
    "n = int(input(\"Enter a number : \"))\n",
    "flag=0\n",
    "if n>1:\n",
    "    for i in range(2,n):\n",
    "        if n%i==0:\n",
    "            flag=1\n",
    "            break\n",
    "if flag==1:\n",
    "    print(\"Not Prime\")\n",
    "else:\n",
    "    print(\"Prime\")"
   ]
  },
  {
   "cell_type": "code",
   "execution_count": 18,
   "metadata": {},
   "outputs": [
    {
     "name": "stdout",
     "output_type": "stream",
     "text": [
      "[('ram', '15', '8'), ('laxman', 'sita'), ('krishna', 'akbar', '45'), ('', '')]\n"
     ]
    }
   ],
   "source": [
    "# 4.Write a Python program to remove an empty tuple(s) from a list of tuples.\n",
    "def Remove(tuples):\n",
    "    for i in tuples:\n",
    "        if(len(i) == 0):\n",
    "            tuples.remove(i)\n",
    "    return tuples\n",
    "tuples = [(), ('ram', '15', '8'), (), ('laxman', 'sita'), ('krishna', 'akbar', '45'), ('', ''), ()]\n",
    "print(Remove(tuples))"
   ]
  },
  {
   "cell_type": "code",
   "execution_count": 19,
   "metadata": {},
   "outputs": [
    {
     "name": "stdout",
     "output_type": "stream",
     "text": [
      "[('ram', '15', '8'), ('laxman', 'sita'), ('krishna', 'akbar', '45'), ('', '')]\n"
     ]
    }
   ],
   "source": [
    "def Remove(tuples):\n",
    "    for i in tuples:\n",
    "        if(i==()):\n",
    "            tuples.remove(i)\n",
    "    return tuples\n",
    "tuples = [(), ('ram','15','8'), (), ('laxman', 'sita'), ('krishna', 'akbar', '45'), ('',''),()]\n",
    "print(Remove(tuples))"
   ]
  },
  {
   "cell_type": "code",
   "execution_count": 20,
   "metadata": {},
   "outputs": [
    {
     "name": "stdout",
     "output_type": "stream",
     "text": [
      "[('ram', '15', '8'), ('laxman', 'sita'), ('krishna', 'akbar', '45'), ('', '')]\n"
     ]
    }
   ],
   "source": [
    "def Remove(tuples):\n",
    "    while () in tuples:\n",
    "        tuples.remove(());\n",
    "    return tuples\n",
    "tuples = [(), ('ram','15','8'), (), ('laxman', 'sita'), ('krishna', 'akbar', '45'), ('',''),()]\n",
    "print (Remove(tuples))"
   ]
  },
  {
   "cell_type": "code",
   "execution_count": 9,
   "metadata": {},
   "outputs": [
    {
     "name": "stdout",
     "output_type": "stream",
     "text": [
      "1 2 3 4 5\n",
      "Sum : 15\n",
      "Average : 3.0\n"
     ]
    }
   ],
   "source": [
    "# 5.To calculate the average of the elements in a list\n",
    "l = input().split()\n",
    "l = [int(i) for i in l]\n",
    "sum = 0\n",
    "for i in l:\n",
    "    sum = sum+i\n",
    "avg =sum/len(l)\n",
    "print(\"Sum :\",sum)\n",
    "print(\"Average :\",avg)"
   ]
  },
  {
   "cell_type": "code",
   "execution_count": 12,
   "metadata": {},
   "outputs": [
    {
     "name": "stdout",
     "output_type": "stream",
     "text": [
      "['Green', 'White', 'Black']\n"
     ]
    }
   ],
   "source": [
    "\"\"\"\n",
    "6.Write a Python program to print a specified list after removing the 0th, 4th and 5th elements.\n",
    "  Sample List : ['Red', 'Green', 'White', 'Black', 'Pink', 'Yellow']\n",
    "  Expected Output : ['Green', 'White', 'Black']\n",
    "\"\"\"\n",
    "list = ['Red', 'Green', 'White', 'Black', 'Pink', 'Yellow']\n",
    "n = len(list)\n",
    "list.pop(5)\n",
    "list.pop(4)\n",
    "list.pop(0)\n",
    "print(list)"
   ]
  },
  {
   "cell_type": "code",
   "execution_count": 13,
   "metadata": {},
   "outputs": [
    {
     "name": "stdout",
     "output_type": "stream",
     "text": [
      "['Green', 'White', 'Black']\n"
     ]
    }
   ],
   "source": [
    "color = ['Red', 'Green', 'White', 'Black', 'Pink', 'Yellow']\n",
    "color = [x for (i,x) in enumerate(color) if i not in (0,4,5)]\n",
    "print(color)"
   ]
  },
  {
   "cell_type": "code",
   "execution_count": 37,
   "metadata": {},
   "outputs": [],
   "source": [
    "# 7.Write a Python program to generate all permutations of a list in Python\n"
   ]
  },
  {
   "cell_type": "code",
   "execution_count": 32,
   "metadata": {},
   "outputs": [
    {
     "name": "stdout",
     "output_type": "stream",
     "text": [
      "1 2 3 4\n",
      "24\n"
     ]
    }
   ],
   "source": [
    "# 8.Write a Python program to calculate the product, multiplying all the numbers of a given tuple.\n",
    "t=input().split()\n",
    "t=(int(i) for i in t)\n",
    "product=1\n",
    "for i in t:\n",
    "    product=product*i\n",
    "print(product)"
   ]
  },
  {
   "cell_type": "code",
   "execution_count": 1,
   "metadata": {},
   "outputs": [
    {
     "name": "stdout",
     "output_type": "stream",
     "text": [
      "Duplicate characters in a given string: \n",
      "r\n",
      "e\n",
      "t\n",
      "s\n",
      "i\n"
     ]
    }
   ],
   "source": [
    "# 9.Counting repeated characters in a string\n",
    "string = \"Great responsibility\";  \n",
    "print(\"Duplicate characters in a given string: \");  \n",
    "# Counts each character present in the string  \n",
    "for i in range(0, len(string)):  \n",
    "    count = 1;  \n",
    "    for j in range(i+1, len(string)):  \n",
    "        if(string[i] == string[j] and string[i] != ' '):  \n",
    "            count = count + 1;  \n",
    "            #Set string[j] to 0 to avoid printing visited character  \n",
    "            string = string[:j] + '0' + string[j+1:];  \n",
    "   \n",
    "    #A character is considered as duplicate if count is greater than 1  \n",
    "    if(count > 1 and string[i] != '0'):  \n",
    "        print(string[i]);  "
   ]
  },
  {
   "cell_type": "code",
   "execution_count": null,
   "metadata": {},
   "outputs": [],
   "source": [
    "# 10.Reverse a string if it's length is a multiple of 4\n"
   ]
  },
  {
   "cell_type": "code",
   "execution_count": 2,
   "metadata": {},
   "outputs": [
    {
     "name": "stdout",
     "output_type": "stream",
     "text": [
      "1 2 3 4 5 6 7 8 9 10\n",
      "[2, 4, 6, 8, 10]\n",
      "[1, 3, 5, 7, 9]\n",
      "[]\n"
     ]
    }
   ],
   "source": [
    "# 11.To seperate even, odd and zeroes from a list.\n",
    "List=input().split()\n",
    "l=[int(i) for i in List]\n",
    "e=[]\n",
    "o=[]\n",
    "ze=[]\n",
    "for i in l:\n",
    "    if (i==0):\n",
    "        ze.append(i)\n",
    "    elif(i%2==0):\n",
    "        e.append(i)\n",
    "    else:\n",
    "        o.append(i)\n",
    "print(e)\n",
    "print(o)\n",
    "print(ze)"
   ]
  },
  {
   "cell_type": "code",
   "execution_count": null,
   "metadata": {},
   "outputs": [],
   "source": [
    "# 12.Split a given dictionary of lists into list of dictionaries.\n"
   ]
  },
  {
   "cell_type": "markdown",
   "metadata": {},
   "source": [
    "# 30-01-2023"
   ]
  },
  {
   "cell_type": "code",
   "execution_count": 1,
   "metadata": {},
   "outputs": [
    {
     "name": "stdout",
     "output_type": "stream",
     "text": [
      "Teja Harshini\n",
      "100\n"
     ]
    }
   ],
   "source": [
    "class Student:\n",
    "    name = \"Teja Harshini\"\n",
    "    __rollnumber = 100\n",
    "    def get_rollnumber(self):\n",
    "        return self.__rollnumber\n",
    "    def set_rollnumber(self, new_value):\n",
    "        self.__rollnumber = new_value\n",
    "        \n",
    "obj = Student()\n",
    "print(obj.name)\n",
    "print(obj.get_rollnumber())"
   ]
  },
  {
   "cell_type": "code",
   "execution_count": 4,
   "metadata": {},
   "outputs": [
    {
     "name": "stdout",
     "output_type": "stream",
     "text": [
      "In Class B\n",
      "None\n"
     ]
    }
   ],
   "source": [
    "class A:\n",
    "    def method_1(self):\n",
    "        print(\"In Class A\")\n",
    "class B:\n",
    "    def method_1(self):\n",
    "        print(\"In Class B\")\n",
    "class child(B,A):\n",
    "    pass\n",
    "ob = child()\n",
    "print(ob.method_1())"
   ]
  },
  {
   "cell_type": "code",
   "execution_count": 5,
   "metadata": {},
   "outputs": [
    {
     "name": "stdout",
     "output_type": "stream",
     "text": [
      "In Class A\n",
      "None\n"
     ]
    }
   ],
   "source": [
    "class A:\n",
    "    def method_1(self):\n",
    "        print(\"In Class A\")\n",
    "class B:\n",
    "    def method_1(self):\n",
    "        print(\"In Class B\")\n",
    "class child(A,B):\n",
    "    pass\n",
    "ob = child()\n",
    "print(ob.method_1())"
   ]
  },
  {
   "cell_type": "code",
   "execution_count": 8,
   "metadata": {},
   "outputs": [
    {
     "name": "stdout",
     "output_type": "stream",
     "text": [
      "2\n",
      " teja\n",
      " 1234\n",
      " harshini\n",
      " 5678\n",
      "[{'teja': '1234'}, {'harshini': '5678'}]\n"
     ]
    }
   ],
   "source": [
    "n = int(input())\n",
    "arr=[]\n",
    "for i in range(n):\n",
    "    username=input(\" \")\n",
    "    password=input(\" \")\n",
    "    arr.append({username:password})\n",
    "print(arr)"
   ]
  },
  {
   "cell_type": "code",
   "execution_count": 10,
   "metadata": {},
   "outputs": [
    {
     "name": "stdout",
     "output_type": "stream",
     "text": [
      "2\n",
      " teja\n",
      " 1234\n",
      " harshini\n",
      " 5678\n",
      "[{'teja': '1234'}, {'harshini': '5678'}]\n",
      "Anishetty\n",
      "9\n",
      "User Not Found\n"
     ]
    }
   ],
   "source": [
    "dict={}\n",
    "n = int(input())\n",
    "arr=[]\n",
    "for i in range(n):\n",
    "    username=input(\" \")\n",
    "    password=input(\" \")\n",
    "    arr.append({username:password})\n",
    "print(arr)\n",
    "val=input()\n",
    "pa=input()\n",
    "found = False\n",
    "for obj in arr:\n",
    "    try:\n",
    "        password=obj[val]\n",
    "        found=True\n",
    "        if pa==password:\n",
    "            print(\"Valid\")\n",
    "        else:\n",
    "            print(\"Invalid\")\n",
    "    except:\n",
    "        pass\n",
    "if found==False:\n",
    "    print(\"User Not Found\")"
   ]
  },
  {
   "cell_type": "code",
   "execution_count": 11,
   "metadata": {},
   "outputs": [
    {
     "name": "stdout",
     "output_type": "stream",
     "text": [
      "[1, 2, 3, 4]\n",
      "[2, 3, 4]\n",
      "[2, 3, 4, 5]\n"
     ]
    }
   ],
   "source": [
    "stack=[]\n",
    "stack.append(1)\n",
    "stack.append(2)\n",
    "stack.append(3)\n",
    "stack.append(4)\n",
    "print(stack)\n",
    "stack.pop(0)\n",
    "print(stack)\n",
    "stack.append(5)\n",
    "print(stack)"
   ]
  },
  {
   "cell_type": "code",
   "execution_count": null,
   "metadata": {},
   "outputs": [],
   "source": [
    "import random\n",
    "print(random.randint(1,100))\n",
    "arr=[\"rock\", \"paper\", \"s\"]"
   ]
  }
 ],
 "metadata": {
  "kernelspec": {
   "display_name": "Python 3",
   "language": "python",
   "name": "python3"
  },
  "language_info": {
   "codemirror_mode": {
    "name": "ipython",
    "version": 3
   },
   "file_extension": ".py",
   "mimetype": "text/x-python",
   "name": "python",
   "nbconvert_exporter": "python",
   "pygments_lexer": "ipython3",
   "version": "3.8.5"
  }
 },
 "nbformat": 4,
 "nbformat_minor": 4
}
